{
 "cells": [
  {
   "cell_type": "code",
   "execution_count": 6,
   "id": "ea3650e9",
   "metadata": {
    "scrolled": true
   },
   "outputs": [
    {
     "name": "stdout",
     "output_type": "stream",
     "text": [
      "Requirement already satisfied: gymnasium in c:\\users\\keln\\anaconda3\\lib\\site-packages (0.27.1)\n",
      "Requirement already satisfied: gymnasium-notices>=0.0.1 in c:\\users\\keln\\anaconda3\\lib\\site-packages (from gymnasium) (0.0.1)\n",
      "Requirement already satisfied: cloudpickle>=1.2.0 in c:\\users\\keln\\anaconda3\\lib\\site-packages (from gymnasium) (2.0.0)\n",
      "Requirement already satisfied: typing-extensions>=4.3.0 in c:\\users\\keln\\anaconda3\\lib\\site-packages (from gymnasium) (4.4.0)\n",
      "Requirement already satisfied: jax-jumpy>=0.2.0 in c:\\users\\keln\\anaconda3\\lib\\site-packages (from gymnasium) (0.2.0)\n",
      "Requirement already satisfied: numpy>=1.21.0 in c:\\users\\keln\\anaconda3\\lib\\site-packages (from gymnasium) (1.21.5)\n",
      "Requirement already satisfied: importlib-metadata>=4.8.0 in c:\\users\\keln\\anaconda3\\lib\\site-packages (from gymnasium) (4.11.3)\n",
      "Requirement already satisfied: zipp>=0.5 in c:\\users\\keln\\anaconda3\\lib\\site-packages (from importlib-metadata>=4.8.0->gymnasium) (3.7.0)\n",
      "Requirement already satisfied: gymnasium[box2d] in c:\\users\\keln\\anaconda3\\lib\\site-packages (0.27.1)\n",
      "Requirement already satisfied: jax-jumpy>=0.2.0 in c:\\users\\keln\\anaconda3\\lib\\site-packages (from gymnasium[box2d]) (0.2.0)\n",
      "Requirement already satisfied: typing-extensions>=4.3.0 in c:\\users\\keln\\anaconda3\\lib\\site-packages (from gymnasium[box2d]) (4.4.0)\n",
      "Requirement already satisfied: cloudpickle>=1.2.0 in c:\\users\\keln\\anaconda3\\lib\\site-packages (from gymnasium[box2d]) (2.0.0)\n",
      "Requirement already satisfied: importlib-metadata>=4.8.0 in c:\\users\\keln\\anaconda3\\lib\\site-packages (from gymnasium[box2d]) (4.11.3)\n",
      "Requirement already satisfied: numpy>=1.21.0 in c:\\users\\keln\\anaconda3\\lib\\site-packages (from gymnasium[box2d]) (1.21.5)\n",
      "Requirement already satisfied: gymnasium-notices>=0.0.1 in c:\\users\\keln\\anaconda3\\lib\\site-packages (from gymnasium[box2d]) (0.0.1)\n",
      "Collecting box2d-py==2.3.5\n",
      "  Downloading box2d-py-2.3.5.tar.gz (374 kB)\n",
      "Collecting swig==4.*\n",
      "  Downloading swig-4.1.1-py2.py3-none-win_amd64.whl (2.5 MB)\n",
      "Collecting pygame==2.1.3.dev8\n",
      "  Downloading pygame-2.1.3.dev8-cp39-cp39-win_amd64.whl (10.6 MB)\n",
      "Requirement already satisfied: zipp>=0.5 in c:\\users\\keln\\anaconda3\\lib\\site-packages (from importlib-metadata>=4.8.0->gymnasium[box2d]) (3.7.0)\n",
      "Building wheels for collected packages: box2d-py\n",
      "  Building wheel for box2d-py (setup.py): started\n",
      "  Building wheel for box2d-py (setup.py): finished with status 'error'\n",
      "  Running setup.py clean for box2d-py\n",
      "Failed to build box2d-py\n",
      "Installing collected packages: swig, pygame, box2d-py\n",
      "    Running setup.py install for box2d-py: started\n",
      "    Running setup.py install for box2d-py: finished with status 'done'\n",
      "Successfully installed box2d-py-2.3.5 pygame-2.1.3.dev8 swig-4.1.1\n"
     ]
    },
    {
     "name": "stderr",
     "output_type": "stream",
     "text": [
      "  ERROR: Command errored out with exit status 1:\n",
      "   command: 'C:\\Users\\keln\\Anaconda3\\python.exe' -u -c 'import io, os, sys, setuptools, tokenize; sys.argv[0] = '\"'\"'C:\\\\Users\\\\keln\\\\AppData\\\\Local\\\\Temp\\\\pip-install-2fr0vfzv\\\\box2d-py_fd310f47d37a481595ea940bbf2618af\\\\setup.py'\"'\"'; __file__='\"'\"'C:\\\\Users\\\\keln\\\\AppData\\\\Local\\\\Temp\\\\pip-install-2fr0vfzv\\\\box2d-py_fd310f47d37a481595ea940bbf2618af\\\\setup.py'\"'\"';f = getattr(tokenize, '\"'\"'open'\"'\"', open)(__file__) if os.path.exists(__file__) else io.StringIO('\"'\"'from setuptools import setup; setup()'\"'\"');code = f.read().replace('\"'\"'\\r\\n'\"'\"', '\"'\"'\\n'\"'\"');f.close();exec(compile(code, __file__, '\"'\"'exec'\"'\"'))' bdist_wheel -d 'C:\\Users\\keln\\AppData\\Local\\Temp\\pip-wheel-1kql2dj8'\n",
      "       cwd: C:\\Users\\keln\\AppData\\Local\\Temp\\pip-install-2fr0vfzv\\box2d-py_fd310f47d37a481595ea940bbf2618af\\\n",
      "  Complete output (16 lines):\n",
      "  Using setuptools (version 61.2.0).\n",
      "  running bdist_wheel\n",
      "  running build\n",
      "  running build_py\n",
      "  creating build\n",
      "  creating build\\lib.win-amd64-3.9\n",
      "  creating build\\lib.win-amd64-3.9\\Box2D\n",
      "  copying library\\Box2D\\Box2D.py -> build\\lib.win-amd64-3.9\\Box2D\n",
      "  copying library\\Box2D\\__init__.py -> build\\lib.win-amd64-3.9\\Box2D\n",
      "  creating build\\lib.win-amd64-3.9\\Box2D\\b2\n",
      "  copying library\\Box2D\\b2\\__init__.py -> build\\lib.win-amd64-3.9\\Box2D\\b2\n",
      "  running build_ext\n",
      "  building 'Box2D._Box2D' extension\n",
      "  swigging Box2D\\Box2D.i to Box2D\\Box2D_wrap.cpp\n",
      "  swig.exe -python -c++ -IBox2D -small -O -includeall -ignoremissing -w201 -globals b2Globals -outdir library\\Box2D -keyword -w511 -D_SWIG_KWARGS -o Box2D\\Box2D_wrap.cpp Box2D\\Box2D.i\n",
      "  error: command 'swig.exe' failed: None\n",
      "  ----------------------------------------\n",
      "  ERROR: Failed building wheel for box2d-py\n",
      "  DEPRECATION: box2d-py was installed using the legacy 'setup.py install' method, because a wheel could not be built for it. A possible replacement is to fix the wheel build issue reported above. You can find discussion regarding this at https://github.com/pypa/pip/issues/8368.\n"
     ]
    }
   ],
   "source": [
    "!pip install gymnasium\n",
    "!pip install gymnasium[box2d]"
   ]
  },
  {
   "cell_type": "code",
   "execution_count": 7,
   "id": "d41c26aa",
   "metadata": {},
   "outputs": [],
   "source": [
    "import gymnasium as gym"
   ]
  },
  {
   "cell_type": "code",
   "execution_count": 8,
   "id": "1e631f9b",
   "metadata": {},
   "outputs": [],
   "source": [
    "env = gym.make(\"LunarLander-v2\", render_mode=\"human\")\n",
    "observation, info = env.reset(seed=42)"
   ]
  },
  {
   "cell_type": "code",
   "execution_count": 9,
   "id": "3ae4c92c",
   "metadata": {},
   "outputs": [],
   "source": [
    "for _ in range(1000):\n",
    "   action = env.action_space.sample()  # this is where you would insert your policy\n",
    "   observation, reward, terminated, truncated, info = env.step(action)\n",
    "\n",
    "   if terminated or truncated:\n",
    "      observation, info = env.reset()\n",
    "env.close()"
   ]
  },
  {
   "cell_type": "code",
   "execution_count": null,
   "id": "55e4548a",
   "metadata": {},
   "outputs": [],
   "source": []
  }
 ],
 "metadata": {
  "kernelspec": {
   "display_name": "Python 3 (ipykernel)",
   "language": "python",
   "name": "python3"
  },
  "language_info": {
   "codemirror_mode": {
    "name": "ipython",
    "version": 3
   },
   "file_extension": ".py",
   "mimetype": "text/x-python",
   "name": "python",
   "nbconvert_exporter": "python",
   "pygments_lexer": "ipython3",
   "version": "3.9.12"
  }
 },
 "nbformat": 4,
 "nbformat_minor": 5
}
