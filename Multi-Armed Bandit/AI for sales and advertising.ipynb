{
 "cells": [
  {
   "cell_type": "code",
   "execution_count": 2,
   "id": "0c60f624",
   "metadata": {},
   "outputs": [],
   "source": [
    "import numpy as np\n",
    "import matplotlib.pyplot as plt\n",
    "import random"
   ]
  },
  {
   "cell_type": "code",
   "execution_count": 3,
   "id": "d88f1656",
   "metadata": {},
   "outputs": [],
   "source": [
    "# Setting the parameters\n",
    "N = 10000\n",
    "d = 9"
   ]
  },
  {
   "cell_type": "code",
   "execution_count": 4,
   "id": "435e79c6",
   "metadata": {},
   "outputs": [],
   "source": [
    "\n",
    "# Building the environment inside a simulation\n",
    "conversion_rates = [0.05,0.13,0.09,0.16,0.11,0.04,0.20,0.08,0.01]\n",
    "X = np.array(np.zeros([N,d]))\n",
    "for i in range(N):\n",
    "    for j in range(d):\n",
    "        if np.random.rand() <= conversion_rates[j]:\n",
    "            X[i,j] = 1"
   ]
  },
  {
   "cell_type": "code",
   "execution_count": 10,
   "id": "aee7fba0",
   "metadata": {},
   "outputs": [],
   "source": [
    "# Implementing Random Selection and Thompson Sampling\n",
    "\n",
    "#Liste af de valgte strategier som er valgt af Random Selection\n",
    "strategies_selected_rs = []\n",
    "total_reward_rs = 0\n",
    "#Liste af valgte strategier valgt af Thomson Sampling\n",
    "strategies_selected_ts = []\n",
    "total_reward_ts = 0\n",
    "\n",
    "#reward_1 er positiv rewards og rewards_0 er negativ\n",
    "numbers_of_rewards_1 = [0] * d\n",
    "numbers_of_rewards_0 = [0] * d"
   ]
  },
  {
   "cell_type": "code",
   "execution_count": 15,
   "id": "c95bb5fe",
   "metadata": {},
   "outputs": [],
   "source": [
    "for i in range(0, N):\n",
    "    # Vælger random en af strategierne (d = 9)\n",
    "    strategy_rs = random.randrange(d)\n",
    "    strategies_selected_rs.append(strategy_rs)    \n",
    "    reward_rs = X[i, strategy_rs]    \n",
    "    total_reward_rs = total_reward_rs + reward_rs\n",
    "    \n",
    "    # Thompson Sampling\n",
    "    strategy_ts = 0\n",
    "    max_random = 0\n",
    "\n",
    "    for j in range(0, d):\n",
    "        random_beta = random.betavariate(numbers_of_rewards_1[j] + 1, numbers_of_rewards_0[j] + 1)\n",
    "        if random_beta > max_random:\n",
    "            max_random = random_beta\n",
    "            strategy_ts = j\n",
    "    reward_ts = X[i, strategy_ts]\n",
    "    \n",
    "    if reward_ts == 1:\n",
    "        numbers_of_rewards_1[strategy_ts] = numbers_of_rewards_1[strategy_ts] + 1\n",
    "    else:\n",
    "        numbers_of_rewards_0[strategy_ts] = numbers_of_rewards_0[strategy_ts] + 1\n",
    "        \n",
    "    strategies_selected_ts.append(strategy_ts)\n",
    "    total_reward_ts = total_reward_ts + reward_ts\n",
    "\n",
    "\n"
   ]
  },
  {
   "cell_type": "code",
   "execution_count": 16,
   "id": "0e4de2de",
   "metadata": {},
   "outputs": [
    {
     "name": "stdout",
     "output_type": "stream",
     "text": [
      "Relative Return: 103 %\n"
     ]
    }
   ],
   "source": [
    "# Computing the Relative Return\n",
    "relative_return = (total_reward_ts - total_reward_rs) / total_reward_rs * 100\n",
    "print(\"Relative Return: {:.0f} %\".format(relative_return))\n"
   ]
  },
  {
   "cell_type": "code",
   "execution_count": 17,
   "id": "f2970df1",
   "metadata": {},
   "outputs": [
    {
     "data": {
      "image/png": "[encoded data removed]",
      "text/plain": [
       "<Figure size 432x288 with 1 Axes>"
      ]
     },
     "metadata": {
      "needs_background": "light"
     },
     "output_type": "display_data"
    }
   ],
   "source": [
    "# Plotting the Histogram of Selections\n",
    "plt.hist(strategies_selected_ts)\n",
    "plt.title('Histogram of Selections')\n",
    "plt.xlabel('Strategy')\n",
    "plt.ylabel('Number of times the strategy was selected')\n",
    "plt.show()"
   ]
  },
  {
   "cell_type": "code",
   "execution_count": null,
   "id": "634e0762",
   "metadata": {},
   "outputs": [],
   "source": []
  }
 ],
 "metadata": {
  "kernelspec": {
   "display_name": "Python (AI)",
   "language": "python",
   "name": "rl-learning"
  },
  "language_info": {
   "codemirror_mode": {
    "name": "ipython",
    "version": 3
   },
   "file_extension": ".py",
   "mimetype": "text/x-python",
   "name": "python",
   "nbconvert_exporter": "python",
   "pygments_lexer": "ipython3",
   "version": "3.9.7"
  }
 },
 "nbformat": 4,
 "nbformat_minor": 5
}
