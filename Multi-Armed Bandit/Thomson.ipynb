{
 "cells": [
  {
   "cell_type": "code",
   "execution_count": 1,
   "id": "92755c99",
   "metadata": {},
   "outputs": [],
   "source": [
    "import numpy as np"
   ]
  },
  {
   "cell_type": "code",
   "execution_count": 24,
   "id": "a1defe9c",
   "metadata": {},
   "outputs": [],
   "source": [
    "conversionRates = [0.12, 0.1, 0.03, 0.15, 0.05]\n",
    "N = 25000\n",
    "d = len(conversionRates)"
   ]
  },
  {
   "cell_type": "code",
   "execution_count": 25,
   "id": "9b1d4e87",
   "metadata": {},
   "outputs": [],
   "source": [
    "X = np.zeros((N, d))\n",
    "\n",
    "for i in range(N):\n",
    "    for j in range(d):\n",
    "        if np.random.rand() < conversionRates[j] :\n",
    "            X[i][j] = 1"
   ]
  },
  {
   "cell_type": "code",
   "execution_count": 26,
   "id": "d2073048",
   "metadata": {},
   "outputs": [],
   "source": [
    "nPosReward = np.zeros(d)\n",
    "nNegReward = np.zeros(d)"
   ]
  },
  {
   "cell_type": "code",
   "execution_count": 27,
   "id": "d18255f1",
   "metadata": {},
   "outputs": [],
   "source": [
    "for i in range(N):\n",
    "    selected = 0\n",
    "    maxRandom = 0\n",
    "    for j in range(d):\n",
    "        randomBeta = np.random.beta(nPosReward[j] + 1, nNegReward[j] + 1)\n",
    "        if randomBeta > maxRandom:\n",
    "            maxRandom = randomBeta\n",
    "            selected = j\n",
    "    \n",
    "    if X[i][selected] == 1:\n",
    "        nPosReward[selected] += 1\n",
    "    else:\n",
    "        nNegReward[selected] += 1         "
   ]
  },
  {
   "cell_type": "code",
   "execution_count": 28,
   "id": "2c568186",
   "metadata": {},
   "outputs": [
    {
     "name": "stdout",
     "output_type": "stream",
     "text": [
      "Machine number 1 was selected 437.0 times\n",
      "Machine number 2 was selected 175.0 times\n",
      "Machine number 3 was selected 89.0 times\n",
      "Machine number 4 was selected 24254.0 times\n",
      "Machine number 5 was selected 45.0 times\n",
      "Conclusion: Best machine is machine number 4\n"
     ]
    }
   ],
   "source": [
    "nSelected = nPosReward + nNegReward\n",
    "for i in range(d):\n",
    "    print('Machine number ' + str(i + 1) + ' was selected ' + str(nSelected[i]) + ' times')\n",
    "    \n",
    "print('Conclusion: Best machine is machine number ' + str(np.argmax(nSelected) + 1))"
   ]
  },
  {
   "cell_type": "code",
   "execution_count": null,
   "id": "3b3e3d2d",
   "metadata": {},
   "outputs": [],
   "source": []
  }
 ],
 "metadata": {
  "kernelspec": {
   "display_name": "Python (AI)",
   "language": "python",
   "name": "rl-learning"
  },
  "language_info": {
   "codemirror_mode": {
    "name": "ipython",
    "version": 3
   },
   "file_extension": ".py",
   "mimetype": "text/x-python",
   "name": "python",
   "nbconvert_exporter": "python",
   "pygments_lexer": "ipython3",
   "version": "3.9.7"
  }
 },
 "nbformat": 4,
 "nbformat_minor": 5
}
