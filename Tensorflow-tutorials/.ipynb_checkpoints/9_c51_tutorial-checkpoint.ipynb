{
 "cells": [
  {
   "cell_type": "markdown",
   "metadata": {
    "id": "klGNgWREsvQv"
   },
   "source": [
    "##### Copyright 2021 The TF-Agents Authors."
   ]
  },
  {
   "cell_type": "code",
   "execution_count": 1,
   "metadata": {
    "cellView": "form",
    "execution": {
     "iopub.execute_input": "2022-04-20T11:16:51.570843Z",
     "iopub.status.busy": "2022-04-20T11:16:51.570581Z",
     "iopub.status.idle": "2022-04-20T11:16:51.574674Z",
     "shell.execute_reply": "2022-04-20T11:16:51.574154Z"
    },
    "id": "nQnmcm0oI1Q-"
   },
   "outputs": [],
   "source": [
    "#@title Licensed under the Apache License, Version 2.0 (the \"License\");\n",
    "# you may not use this file except in compliance with the License.\n",
    "# You may obtain a copy of the License at\n",
    "#\n",
    "# https://www.apache.org/licenses/LICENSE-2.0\n",
    "#\n",
    "# Unless required by applicable law or agreed to in writing, software\n",
    "# distributed under the License is distributed on an \"AS IS\" BASIS,\n",
    "# WITHOUT WARRANTIES OR CONDITIONS OF ANY KIND, either express or implied.\n",
    "# See the License for the specific language governing permissions and\n",
    "# limitations under the License."
   ]
  },
  {
   "cell_type": "markdown",
   "metadata": {
    "id": "oMaGpi7TciQs"
   },
   "source": [
    "# DQN C51/Rainbow\n",
    "\n",
    "<table class=\"tfo-notebook-buttons\" align=\"left\">\n",
    "  <td>\n",
    "    <a target=\"_blank\" href=\"https://www.tensorflow.org/agents/tutorials/9_c51_tutorial\">\n",
    "    <img src=\"https://www.tensorflow.org/images/tf_logo_32px.png\" />\n",
    "    View on TensorFlow.org</a>\n",
    "  </td>\n",
    "  <td>\n",
    "    <a target=\"_blank\" href=\"https://colab.research.google.com/github/tensorflow/agents/blob/master/docs/tutorials/9_c51_tutorial.ipynb\">\n",
    "    <img src=\"https://www.tensorflow.org/images/colab_logo_32px.png\" />\n",
    "    Run in Google Colab</a>\n",
    "  </td>\n",
    "  <td>\n",
    "    <a target=\"_blank\" href=\"https://github.com/tensorflow/agents/blob/master/docs/tutorials/9_c51_tutorial.ipynb\">\n",
    "    <img src=\"https://www.tensorflow.org/images/GitHub-Mark-32px.png\" />\n",
    "    View source on GitHub</a>\n",
    "  </td>\n",
    "  <td>\n",
    "    <a href=\"https://storage.googleapis.com/tensorflow_docs/agents/docs/tutorials/9_c51_tutorial.ipynb\"><img src=\"https://www.tensorflow.org/images/download_logo_32px.png\" />Download notebook</a>\n",
    "  </td>\n",
    "</table>"
   ]
  },
  {
   "cell_type": "markdown",
   "metadata": {
    "id": "ZOUOQOrFs3zn"
   },
   "source": [
    "## Introduction"
   ]
  },
  {
   "cell_type": "markdown",
   "metadata": {
    "id": "cKOCZlhUgXVK"
   },
   "source": [
    "This example shows how to train a [Categorical DQN (C51)](https://arxiv.org/pdf/1707.06887.pdf) agent on the Cartpole environment using the TF-Agents library.\n",
    "\n",
    "![Cartpole environment](https://github.com/tensorflow/agents/blob/master/docs/tutorials/images/cartpole.png?raw=1)\n",
    "\n",
    "Make sure you take a look through the [DQN tutorial](https://github.com/tensorflow/agents/blob/master/docs/tutorials/1_dqn_tutorial.ipynb) as a prerequisite. This tutorial will assume familiarity with the DQN tutorial; it will mainly focus on the differences between DQN and C51.\n"
   ]
  },
  {
   "cell_type": "markdown",
   "metadata": {
    "id": "lsaQlK8fFQqH"
   },
   "source": [
    "## Setup\n"
   ]
  },
  {
   "cell_type": "markdown",
   "metadata": {
    "id": "-NzBsZzPcyBm"
   },
   "source": [
    "If you haven't installed tf-agents yet, run:"
   ]
  },
  {
   "cell_type": "code",
   "execution_count": 2,
   "metadata": {
    "execution": {
     "iopub.execute_input": "2022-04-20T11:16:51.578066Z",
     "iopub.status.busy": "2022-04-20T11:16:51.577865Z",
     "iopub.status.idle": "2022-04-20T11:17:05.690413Z",
     "shell.execute_reply": "2022-04-20T11:17:05.689629Z"
    },
    "id": "KEHR2Ui-lo8O"
   },
   "outputs": [
    {
     "name": "stdout",
     "output_type": "stream",
     "text": [
      "Hit:1 http://europe-west4.gce.archive.ubuntu.com/ubuntu bionic InRelease\n",
      "Hit:2 http://security.ubuntu.com/ubuntu bionic-security InRelease              \n",
      "Hit:3 http://europe-west4.gce.archive.ubuntu.com/ubuntu bionic-updates InRelease\n",
      "Hit:4 https://nvidia.github.io/libnvidia-container/stable/ubuntu18.04/amd64  InRelease\n",
      "Get:5 http://europe-west4.gce.archive.ubuntu.com/ubuntu bionic-backports InRelease [74.6 kB]\n",
      "Get:6 https://nvidia.github.io/nvidia-container-runtime/ubuntu18.04/amd64  InRelease [1481 B]\n",
      "Get:7 https://nvidia.github.io/nvidia-docker/ubuntu18.04/amd64  InRelease [1474 B]\n",
      "Ign:8 http://developer.download.nvidia.com/compute/machine-learning/repos/ubuntu1804/x86_64  InRelease\n",
      "Hit:9 http://developer.download.nvidia.com/compute/machine-learning/repos/ubuntu1804/x86_64  Release\n",
      "Hit:10 http://archive.canonical.com/ubuntu bionic InRelease                    \n",
      "Get:11 https://packages.cloud.google.com/apt eip-cloud-bionic InRelease [5419 B]\n",
      "Get:12 http://packages.cloud.google.com/apt google-cloud-logging-wheezy InRelease [5483 B]\n",
      "Err:11 https://packages.cloud.google.com/apt eip-cloud-bionic InRelease\n",
      "  The following signatures couldn't be verified because the public key is not available: NO_PUBKEY FEEA9169307EA071 NO_PUBKEY 8B57C5C2836F4BEB\n",
      "Err:12 http://packages.cloud.google.com/apt google-cloud-logging-wheezy InRelease\n",
      "  The following signatures couldn't be verified because the public key is not available: NO_PUBKEY FEEA9169307EA071 NO_PUBKEY 8B57C5C2836F4BEB\n",
      "Fetched 88.4 kB in 1s (95.6 kB/s)\n",
      "Reading package lists... Done\n",
      "W: An error occurred during the signature verification. The repository is not updated and the previous index files will be used. GPG error: https://packages.cloud.google.com/apt eip-cloud-bionic InRelease: The following signatures couldn't be verified because the public key is not available: NO_PUBKEY FEEA9169307EA071 NO_PUBKEY 8B57C5C2836F4BEB\n",
      "W: An error occurred during the signature verification. The repository is not updated and the previous index files will be used. GPG error: http://packages.cloud.google.com/apt google-cloud-logging-wheezy InRelease: The following signatures couldn't be verified because the public key is not available: NO_PUBKEY FEEA9169307EA071 NO_PUBKEY 8B57C5C2836F4BEB\n",
      "W: Failed to fetch https://packages.cloud.google.com/apt/dists/eip-cloud-bionic/InRelease  The following signatures couldn't be verified because the public key is not available: NO_PUBKEY FEEA9169307EA071 NO_PUBKEY 8B57C5C2836F4BEB\n",
      "W: Failed to fetch http://packages.cloud.google.com/apt/dists/google-cloud-logging-wheezy/InRelease  The following signatures couldn't be verified because the public key is not available: NO_PUBKEY FEEA9169307EA071 NO_PUBKEY 8B57C5C2836F4BEB\n",
      "W: Some index files failed to download. They have been ignored, or old ones used instead.\n",
      "Reading package lists... Done\n",
      "Building dependency tree       \n",
      "Reading state information... Done\n",
      "freeglut3-dev is already the newest version (2.8.1-3).\n",
      "ffmpeg is already the newest version (7:3.4.8-0ubuntu0.2).\n",
      "xvfb is already the newest version (2:1.19.6-1ubuntu4.10).\n",
      "The following packages were automatically installed and are no longer required:\n",
      "  linux-gcp-5.4-headers-5.4.0-1040 linux-gcp-5.4-headers-5.4.0-1043\n",
      "  linux-gcp-5.4-headers-5.4.0-1044 linux-gcp-5.4-headers-5.4.0-1049\n",
      "  linux-gcp-5.4-headers-5.4.0-1052 linux-gcp-5.4-headers-5.4.0-1062\n",
      "  linux-headers-5.4.0-1062-gcp linux-image-5.4.0-1062-gcp\n",
      "  linux-modules-5.4.0-1062-gcp linux-modules-extra-5.4.0-1062-gcp\n",
      "Use 'sudo apt autoremove' to remove them.\n",
      "0 upgraded, 0 newly installed, 0 to remove and 115 not upgraded.\n",
      "Collecting imageio==2.4.0\n",
      "  Using cached imageio-2.4.0-py3-none-any.whl\n",
      "Requirement already satisfied: pillow in /tmpfs/src/tf_docs_env/lib/python3.7/site-packages (from imageio==2.4.0) (9.1.0)\n",
      "Requirement already satisfied: numpy in /tmpfs/src/tf_docs_env/lib/python3.7/site-packages (from imageio==2.4.0) (1.21.6)\n",
      "Installing collected packages: imageio\n",
      "  Attempting uninstall: imageio\n",
      "    Found existing installation: imageio 2.17.0\n",
      "    Uninstalling imageio-2.17.0:\n",
      "      Successfully uninstalled imageio-2.17.0\n",
      "\u001b[31mERROR: pip's dependency resolver does not currently take into account all the packages that are installed. This behaviour is the source of the following dependency conflicts.\n",
      "scikit-image 0.19.2 requires imageio>=2.4.1, but you have imageio 2.4.0 which is incompatible.\u001b[0m\u001b[31m\n",
      "\u001b[0mSuccessfully installed imageio-2.4.0\n",
      "Collecting pyvirtualdisplay\n",
      "  Using cached PyVirtualDisplay-3.0-py3-none-any.whl (15 kB)\n",
      "Installing collected packages: pyvirtualdisplay\n",
      "Successfully installed pyvirtualdisplay-3.0\n",
      "Collecting tf-agents\n",
      "  Using cached tf_agents-0.12.1-py3-none-any.whl (1.3 MB)\n",
      "Collecting pygame==2.1.0\n",
      "  Using cached pygame-2.1.0-cp37-cp37m-manylinux_2_17_x86_64.manylinux2014_x86_64.whl (18.3 MB)\n",
      "Collecting tensorflow-probability>=0.16.0\n",
      "  Using cached tensorflow_probability-0.16.0-py2.py3-none-any.whl (6.3 MB)\n",
      "Requirement already satisfied: pillow in /tmpfs/src/tf_docs_env/lib/python3.7/site-packages (from tf-agents) (9.1.0)\n",
      "Collecting cloudpickle>=1.3\n",
      "  Using cached cloudpickle-2.0.0-py3-none-any.whl (25 kB)\n",
      "Requirement already satisfied: absl-py>=0.6.1 in /tmpfs/src/tf_docs_env/lib/python3.7/site-packages (from tf-agents) (1.0.0)\n",
      "Requirement already satisfied: numpy>=1.13.3 in /tmpfs/src/tf_docs_env/lib/python3.7/site-packages (from tf-agents) (1.21.6)\n",
      "Requirement already satisfied: protobuf>=3.11.3 in /tmpfs/src/tf_docs_env/lib/python3.7/site-packages (from tf-agents) (3.20.1rc1)\n",
      "Requirement already satisfied: six>=1.10.0 in /tmpfs/src/tf_docs_env/lib/python3.7/site-packages (from tf-agents) (1.16.0)\n",
      "Requirement already satisfied: typing-extensions>=3.7.4.3 in /tmpfs/src/tf_docs_env/lib/python3.7/site-packages (from tf-agents) (4.2.0)\n",
      "Collecting gym>=0.17.0\n",
      "  Using cached gym-0.23.1-py3-none-any.whl\n",
      "Collecting gin-config>=0.4.0\n",
      "  Using cached gin_config-0.5.0-py3-none-any.whl (61 kB)\n",
      "Requirement already satisfied: wrapt>=1.11.1 in /tmpfs/src/tf_docs_env/lib/python3.7/site-packages (from tf-agents) (1.14.0)\n",
      "Collecting gym-notices>=0.0.4\n",
      "  Using cached gym_notices-0.0.6-py3-none-any.whl (2.7 kB)\n",
      "Requirement already satisfied: importlib-metadata>=4.10.0 in /tmpfs/src/tf_docs_env/lib/python3.7/site-packages (from gym>=0.17.0->tf-agents) (4.11.3)\n",
      "Requirement already satisfied: gast>=0.3.2 in /tmpfs/src/tf_docs_env/lib/python3.7/site-packages (from tensorflow-probability>=0.16.0->tf-agents) (0.4.0)\n",
      "Collecting dm-tree\n",
      "  Using cached dm_tree-0.1.7-cp37-cp37m-manylinux_2_12_x86_64.manylinux2010_x86_64.whl (143 kB)\n",
      "Requirement already satisfied: decorator in /tmpfs/src/tf_docs_env/lib/python3.7/site-packages (from tensorflow-probability>=0.16.0->tf-agents) (5.1.1)\n",
      "Requirement already satisfied: zipp>=0.5 in /tmpfs/src/tf_docs_env/lib/python3.7/site-packages (from importlib-metadata>=4.10.0->gym>=0.17.0->tf-agents) (3.8.0)\n",
      "Installing collected packages: gym-notices, gin-config, dm-tree, pygame, cloudpickle, tensorflow-probability, gym, tf-agents\n",
      "Successfully installed cloudpickle-2.0.0 dm-tree-0.1.7 gin-config-0.5.0 gym-0.23.1 gym-notices-0.0.6 pygame-2.1.0 tensorflow-probability-0.16.0 tf-agents-0.12.1\n",
      "Requirement already satisfied: pyglet in /tmpfs/src/tf_docs_env/lib/python3.7/site-packages (1.5.23)\n"
     ]
    }
   ],
   "source": [
    "!sudo apt-get update\n",
    "!sudo apt-get install -y xvfb ffmpeg freeglut3-dev\n",
    "!pip install 'imageio==2.4.0'\n",
    "!pip install pyvirtualdisplay\n",
    "!pip install tf-agents\n",
    "!pip install pyglet"
   ]
  },
  {
   "cell_type": "code",
   "execution_count": 1,
   "metadata": {
    "execution": {
     "iopub.execute_input": "2022-04-20T11:17:05.694577Z",
     "iopub.status.busy": "2022-04-20T11:17:05.694069Z",
     "iopub.status.idle": "2022-04-20T11:17:08.837135Z",
     "shell.execute_reply": "2022-04-20T11:17:08.836080Z"
    },
    "id": "sMitx5qSgJk1"
   },
   "outputs": [
    {
     "ename": "ModuleNotFoundError",
     "evalue": "No module named 'pyvirtualdisplay'",
     "output_type": "error",
     "traceback": [
      "\u001b[1;31m---------------------------------------------------------------------------\u001b[0m",
      "\u001b[1;31mModuleNotFoundError\u001b[0m                       Traceback (most recent call last)",
      "\u001b[1;32m~\\AppData\\Local\\Temp/ipykernel_17952/173206814.py\u001b[0m in \u001b[0;36m<module>\u001b[1;34m\u001b[0m\n\u001b[0;32m      9\u001b[0m \u001b[1;32mimport\u001b[0m \u001b[0mmatplotlib\u001b[0m\u001b[1;33m.\u001b[0m\u001b[0mpyplot\u001b[0m \u001b[1;32mas\u001b[0m \u001b[0mplt\u001b[0m\u001b[1;33m\u001b[0m\u001b[1;33m\u001b[0m\u001b[0m\n\u001b[0;32m     10\u001b[0m \u001b[1;32mimport\u001b[0m \u001b[0mPIL\u001b[0m\u001b[1;33m.\u001b[0m\u001b[0mImage\u001b[0m\u001b[1;33m\u001b[0m\u001b[1;33m\u001b[0m\u001b[0m\n\u001b[1;32m---> 11\u001b[1;33m \u001b[1;32mimport\u001b[0m \u001b[0mpyvirtualdisplay\u001b[0m\u001b[1;33m\u001b[0m\u001b[1;33m\u001b[0m\u001b[0m\n\u001b[0m\u001b[0;32m     12\u001b[0m \u001b[1;33m\u001b[0m\u001b[0m\n\u001b[0;32m     13\u001b[0m \u001b[1;32mimport\u001b[0m \u001b[0mtensorflow\u001b[0m \u001b[1;32mas\u001b[0m \u001b[0mtf\u001b[0m\u001b[1;33m\u001b[0m\u001b[1;33m\u001b[0m\u001b[0m\n",
      "\u001b[1;31mModuleNotFoundError\u001b[0m: No module named 'pyvirtualdisplay'"
     ]
    }
   ],
   "source": [
    "from __future__ import absolute_import\n",
    "from __future__ import division\n",
    "from __future__ import print_function\n",
    "\n",
    "import base64\n",
    "import imageio\n",
    "import IPython\n",
    "import matplotlib\n",
    "import matplotlib.pyplot as plt\n",
    "import PIL.Image\n",
    "import pyvirtualdisplay\n",
    "\n",
    "import tensorflow as tf\n",
    "\n",
    "from tf_agents.agents.categorical_dqn import categorical_dqn_agent\n",
    "from tf_agents.drivers import dynamic_step_driver\n",
    "from tf_agents.environments import suite_gym\n",
    "from tf_agents.environments import tf_py_environment\n",
    "from tf_agents.eval import metric_utils\n",
    "from tf_agents.metrics import tf_metrics\n",
    "from tf_agents.networks import categorical_q_network\n",
    "from tf_agents.policies import random_tf_policy\n",
    "from tf_agents.replay_buffers import tf_uniform_replay_buffer\n",
    "from tf_agents.trajectories import trajectory\n",
    "from tf_agents.utils import common\n",
    "\n",
    "# Set up a virtual display for rendering OpenAI gym environments.\n",
    "display = pyvirtualdisplay.Display(visible=0, size=(1400, 900)).start()"
   ]
  },
  {
   "cell_type": "markdown",
   "metadata": {
    "id": "LmC0NDhdLIKY"
   },
   "source": [
    "## Hyperparameters"
   ]
  },
  {
   "cell_type": "code",
   "execution_count": 4,
   "metadata": {
    "execution": {
     "iopub.execute_input": "2022-04-20T11:17:08.842253Z",
     "iopub.status.busy": "2022-04-20T11:17:08.841677Z",
     "iopub.status.idle": "2022-04-20T11:17:08.846848Z",
     "shell.execute_reply": "2022-04-20T11:17:08.846221Z"
    },
    "id": "HC1kNrOsLSIZ"
   },
   "outputs": [],
   "source": [
    "env_name = \"CartPole-v1\" # @param {type:\"string\"}\n",
    "num_iterations = 15000 # @param {type:\"integer\"}\n",
    "\n",
    "initial_collect_steps = 1000  # @param {type:\"integer\"} \n",
    "collect_steps_per_iteration = 1  # @param {type:\"integer\"}\n",
    "replay_buffer_capacity = 100000  # @param {type:\"integer\"}\n",
    "\n",
    "fc_layer_params = (100,)\n",
    "\n",
    "batch_size = 64  # @param {type:\"integer\"}\n",
    "learning_rate = 1e-3  # @param {type:\"number\"}\n",
    "gamma = 0.99\n",
    "log_interval = 200  # @param {type:\"integer\"}\n",
    "\n",
    "num_atoms = 51  # @param {type:\"integer\"}\n",
    "min_q_value = -20  # @param {type:\"integer\"}\n",
    "max_q_value = 20  # @param {type:\"integer\"}\n",
    "n_step_update = 2  # @param {type:\"integer\"}\n",
    "\n",
    "num_eval_episodes = 10  # @param {type:\"integer\"}\n",
    "eval_interval = 1000  # @param {type:\"integer\"}"
   ]
  },
  {
   "cell_type": "markdown",
   "metadata": {
    "id": "VMsJC3DEgI0x"
   },
   "source": [
    "## Environment\n",
    "\n",
    "Load the environment as before, with one for training and one for evaluation. Here we use CartPole-v1 (vs. CartPole-v0 in the DQN tutorial), which has a larger max reward of 500 rather than 200."
   ]
  },
  {
   "cell_type": "code",
   "execution_count": 5,
   "metadata": {
    "execution": {
     "iopub.execute_input": "2022-04-20T11:17:08.849989Z",
     "iopub.status.busy": "2022-04-20T11:17:08.849478Z",
     "iopub.status.idle": "2022-04-20T11:17:09.133896Z",
     "shell.execute_reply": "2022-04-20T11:17:09.133107Z"
    },
    "id": "Xp-Y4mD6eDhF"
   },
   "outputs": [],
   "source": [
    "train_py_env = suite_gym.load(env_name)\n",
    "eval_py_env = suite_gym.load(env_name)\n",
    "\n",
    "train_env = tf_py_environment.TFPyEnvironment(train_py_env)\n",
    "eval_env = tf_py_environment.TFPyEnvironment(eval_py_env)"
   ]
  },
  {
   "cell_type": "markdown",
   "metadata": {
    "id": "E9lW_OZYFR8A"
   },
   "source": [
    "## Agent\n",
    "\n",
    "C51 is a Q-learning algorithm based on DQN. Like DQN, it can be used on any environment with a discrete action space.\n",
    "\n",
    "The main difference between C51 and DQN is that rather than simply predicting the Q-value for each state-action pair, C51 predicts a histogram model for the probability distribution of the Q-value:\n",
    "\n",
    "![Example C51 Distribution](images/c51_distribution.png)\n",
    "\n",
    "By learning the distribution rather than simply the expected value, the algorithm is able to stay more stable during training, leading to improved final performance. This is particularly true in situations with bimodal or even multimodal value distributions, where a single average does not provide an accurate picture.\n",
    "\n",
    "In order to train on probability distributions rather than on values, C51 must perform some complex distributional computations in order to calculate its loss function. But don't worry, all of this is taken care of for you in TF-Agents!\n",
    "\n",
    "To create a C51 Agent, we first need to create a `CategoricalQNetwork`. The API of the `CategoricalQNetwork` is the same as that of the `QNetwork`, except that there is an additional argument `num_atoms`. This represents the number of support points in our probability distribution estimates. (The above image includes 10 support points, each represented by a vertical blue bar.) As you can tell from the name, the default number of atoms is 51.\n"
   ]
  },
  {
   "cell_type": "code",
   "execution_count": 6,
   "metadata": {
    "execution": {
     "iopub.execute_input": "2022-04-20T11:17:09.137946Z",
     "iopub.status.busy": "2022-04-20T11:17:09.137534Z",
     "iopub.status.idle": "2022-04-20T11:17:09.165668Z",
     "shell.execute_reply": "2022-04-20T11:17:09.164984Z"
    },
    "id": "TgkdEPg_muzV"
   },
   "outputs": [],
   "source": [
    "categorical_q_net = categorical_q_network.CategoricalQNetwork(\n",
    "    train_env.observation_spec(),\n",
    "    train_env.action_spec(),\n",
    "    num_atoms=num_atoms,\n",
    "    fc_layer_params=fc_layer_params)"
   ]
  },
  {
   "cell_type": "markdown",
   "metadata": {
    "id": "z62u55hSmviJ"
   },
   "source": [
    "We also need an `optimizer` to train the network we just created, and a `train_step_counter` variable to keep track of how many times the network was updated.\n",
    "\n",
    "Note that one other significant difference from vanilla `DqnAgent` is that we now need to specify `min_q_value` and `max_q_value` as arguments. These specify the most extreme values of the support (in other words, the most extreme of the 51 atoms on either side). Make sure to choose these appropriately for your particular environment. Here we use -20 and 20."
   ]
  },
  {
   "cell_type": "code",
   "execution_count": 7,
   "metadata": {
    "execution": {
     "iopub.execute_input": "2022-04-20T11:17:09.169170Z",
     "iopub.status.busy": "2022-04-20T11:17:09.168728Z",
     "iopub.status.idle": "2022-04-20T11:17:11.241828Z",
     "shell.execute_reply": "2022-04-20T11:17:11.241193Z"
    },
    "id": "jbY4yrjTEyc9"
   },
   "outputs": [],
   "source": [
    "optimizer = tf.compat.v1.train.AdamOptimizer(learning_rate=learning_rate)\n",
    "\n",
    "train_step_counter = tf.Variable(0)\n",
    "\n",
    "agent = categorical_dqn_agent.CategoricalDqnAgent(\n",
    "    train_env.time_step_spec(),\n",
    "    train_env.action_spec(),\n",
    "    categorical_q_network=categorical_q_net,\n",
    "    optimizer=optimizer,\n",
    "    min_q_value=min_q_value,\n",
    "    max_q_value=max_q_value,\n",
    "    n_step_update=n_step_update,\n",
    "    td_errors_loss_fn=common.element_wise_squared_loss,\n",
    "    gamma=gamma,\n",
    "    train_step_counter=train_step_counter)\n",
    "agent.initialize()"
   ]
  },
  {
   "cell_type": "markdown",
   "metadata": {
    "id": "L7O7F_HqiQ1G"
   },
   "source": [
    "One last thing to note is that we also added an argument to use n-step updates with $n$ = 2. In single-step Q-learning ($n$ = 1), we only compute the error between the Q-values at the current time step and the next time step using the single-step return (based on the Bellman optimality equation). The single-step return is defined as:\n",
    "\n",
    "$G_t = R_{t + 1} + \\gamma V(s_{t + 1})$\n",
    "\n",
    "where we define $V(s) = \\max_a{Q(s, a)}$.\n",
    "\n",
    "N-step updates involve expanding the standard single-step return function $n$ times:\n",
    "\n",
    "$G_t^n = R_{t + 1} + \\gamma R_{t + 2} + \\gamma^2 R_{t + 3} + \\dots + \\gamma^n V(s_{t + n})$\n",
    "\n",
    "N-step updates enable the agent to bootstrap from further in the future, and with the right value of $n$, this often leads to faster learning.\n",
    "\n",
    "Although C51 and n-step updates are often combined with prioritized replay to form the core of the [Rainbow agent](https://arxiv.org/pdf/1710.02298.pdf), we saw no measurable improvement from implementing prioritized replay. Moreover, we find that when combining our C51 agent with n-step updates alone, our agent performs as well as other Rainbow agents on the sample of Atari environments we've tested."
   ]
  },
  {
   "cell_type": "markdown",
   "metadata": {
    "id": "94rCXQtbUbXv"
   },
   "source": [
    "## Metrics and Evaluation\n",
    "\n",
    "The most common metric used to evaluate a policy is the average return. The return is the sum of rewards obtained while running a policy in an environment for an episode, and we usually average this over a few episodes. We can compute the average return metric as follows.\n"
   ]
  },
  {
   "cell_type": "code",
   "execution_count": 8,
   "metadata": {
    "execution": {
     "iopub.execute_input": "2022-04-20T11:17:11.245957Z",
     "iopub.status.busy": "2022-04-20T11:17:11.245394Z",
     "iopub.status.idle": "2022-04-20T11:17:11.722365Z",
     "shell.execute_reply": "2022-04-20T11:17:11.721584Z"
    },
    "id": "bitzHo5_UbXy"
   },
   "outputs": [
    {
     "data": {
      "text/plain": [
       "14.3"
      ]
     },
     "execution_count": 8,
     "metadata": {},
     "output_type": "execute_result"
    }
   ],
   "source": [
    "#@test {\"skip\": true}\n",
    "def compute_avg_return(environment, policy, num_episodes=10):\n",
    "\n",
    "  total_return = 0.0\n",
    "  for _ in range(num_episodes):\n",
    "\n",
    "    time_step = environment.reset()\n",
    "    episode_return = 0.0\n",
    "\n",
    "    while not time_step.is_last():\n",
    "      action_step = policy.action(time_step)\n",
    "      time_step = environment.step(action_step.action)\n",
    "      episode_return += time_step.reward\n",
    "    total_return += episode_return\n",
    "\n",
    "  avg_return = total_return / num_episodes\n",
    "  return avg_return.numpy()[0]\n",
    "\n",
    "\n",
    "random_policy = random_tf_policy.RandomTFPolicy(train_env.time_step_spec(),\n",
    "                                                train_env.action_spec())\n",
    "\n",
    "compute_avg_return(eval_env, random_policy, num_eval_episodes)\n",
    "\n",
    "# Please also see the metrics module for standard implementations of different\n",
    "# metrics."
   ]
  },
  {
   "cell_type": "markdown",
   "metadata": {
    "id": "NLva6g2jdWgr"
   },
   "source": [
    "## Data Collection\n",
    "\n",
    "As in the DQN tutorial, set up the replay buffer and the initial data collection with the random policy."
   ]
  },
  {
   "cell_type": "code",
   "execution_count": 9,
   "metadata": {
    "execution": {
     "iopub.execute_input": "2022-04-20T11:17:11.726070Z",
     "iopub.status.busy": "2022-04-20T11:17:11.725579Z",
     "iopub.status.idle": "2022-04-20T11:17:17.931547Z",
     "shell.execute_reply": "2022-04-20T11:17:17.930699Z"
    },
    "id": "wr1KSAEGG4h9"
   },
   "outputs": [
    {
     "name": "stdout",
     "output_type": "stream",
     "text": [
      "WARNING:tensorflow:From /tmpfs/src/tf_docs_env/lib/python3.7/site-packages/tensorflow/python/autograph/impl/api.py:377: ReplayBuffer.get_next (from tf_agents.replay_buffers.replay_buffer) is deprecated and will be removed in a future version.\n",
      "Instructions for updating:\n",
      "Use `as_dataset(..., single_deterministic_pass=False) instead.\n"
     ]
    }
   ],
   "source": [
    "#@test {\"skip\": true}\n",
    "replay_buffer = tf_uniform_replay_buffer.TFUniformReplayBuffer(\n",
    "    data_spec=agent.collect_data_spec,\n",
    "    batch_size=train_env.batch_size,\n",
    "    max_length=replay_buffer_capacity)\n",
    "\n",
    "def collect_step(environment, policy):\n",
    "  time_step = environment.current_time_step()\n",
    "  action_step = policy.action(time_step)\n",
    "  next_time_step = environment.step(action_step.action)\n",
    "  traj = trajectory.from_transition(time_step, action_step, next_time_step)\n",
    "\n",
    "  # Add trajectory to the replay buffer\n",
    "  replay_buffer.add_batch(traj)\n",
    "\n",
    "for _ in range(initial_collect_steps):\n",
    "  collect_step(train_env, random_policy)\n",
    "\n",
    "# This loop is so common in RL, that we provide standard implementations of\n",
    "# these. For more details see the drivers module.\n",
    "\n",
    "# Dataset generates trajectories with shape [BxTx...] where\n",
    "# T = n_step_update + 1.\n",
    "dataset = replay_buffer.as_dataset(\n",
    "    num_parallel_calls=3, sample_batch_size=batch_size,\n",
    "    num_steps=n_step_update + 1).prefetch(3)\n",
    "\n",
    "iterator = iter(dataset)"
   ]
  },
  {
   "cell_type": "markdown",
   "metadata": {
    "id": "hBc9lj9VWWtZ"
   },
   "source": [
    "## Training the agent\n",
    "\n",
    "The training loop involves both collecting data from the environment and optimizing the agent's networks. Along the way, we will occasionally evaluate the agent's policy to see how we are doing.\n",
    "\n",
    "The following will take ~7 minutes to run."
   ]
  },
  {
   "cell_type": "code",
   "execution_count": 10,
   "metadata": {
    "execution": {
     "iopub.execute_input": "2022-04-20T11:17:17.935545Z",
     "iopub.status.busy": "2022-04-20T11:17:17.935143Z",
     "iopub.status.idle": "2022-04-20T11:24:34.580754Z",
     "shell.execute_reply": "2022-04-20T11:24:34.580018Z"
    },
    "id": "0pTbJ3PeyF-u"
   },
   "outputs": [
    {
     "name": "stdout",
     "output_type": "stream",
     "text": [
      "WARNING:tensorflow:From /tmpfs/src/tf_docs_env/lib/python3.7/site-packages/tensorflow/python/util/dispatch.py:1082: calling foldr_v2 (from tensorflow.python.ops.functional_ops) with back_prop=False is deprecated and will be removed in a future version.\n",
      "Instructions for updating:\n",
      "back_prop=False is deprecated. Consider using tf.stop_gradient instead.\n",
      "Instead of:\n",
      "results = tf.foldr(fn, elems, back_prop=False)\n",
      "Use:\n",
      "results = tf.nest.map_structure(tf.stop_gradient, tf.foldr(fn, elems))\n",
      "step = 200: loss = 3.18833065032959\n",
      "step = 400: loss = 2.0754148960113525\n",
      "step = 600: loss = 1.6196262836456299\n",
      "step = 800: loss = 1.6139719486236572\n",
      "step = 1000: loss = 1.6449038982391357\n",
      "step = 1000: Average Return = 69.50\n",
      "step = 1200: loss = 1.442345142364502\n",
      "step = 1400: loss = 1.3810657262802124\n",
      "step = 1600: loss = 1.439863920211792\n",
      "step = 1800: loss = 1.250838041305542\n",
      "step = 2000: loss = 0.9620616436004639\n",
      "step = 2000: Average Return = 111.20\n",
      "step = 2200: loss = 0.9732844829559326\n",
      "step = 2400: loss = 1.1604586839675903\n",
      "step = 2600: loss = 1.0683619976043701\n",
      "step = 2800: loss = 0.7791318297386169\n",
      "step = 3000: loss = 0.8672434091567993\n",
      "step = 3000: Average Return = 121.80\n",
      "step = 3200: loss = 0.8914871215820312\n",
      "step = 3400: loss = 0.7287296056747437\n",
      "step = 3600: loss = 0.7770305275917053\n",
      "step = 3800: loss = 0.8099956512451172\n",
      "step = 4000: loss = 0.7211952209472656\n",
      "step = 4000: Average Return = 124.00\n",
      "step = 4200: loss = 0.7737867832183838\n",
      "step = 4400: loss = 0.37551194429397583\n",
      "step = 4600: loss = 0.9274032115936279\n",
      "step = 4800: loss = 0.7041550278663635\n",
      "step = 5000: loss = 0.7585321664810181\n",
      "step = 5000: Average Return = 122.10\n",
      "step = 5200: loss = 0.7196154594421387\n",
      "step = 5400: loss = 0.5071319341659546\n",
      "step = 5600: loss = 0.6105386018753052\n",
      "step = 5800: loss = 0.9854182004928589\n",
      "step = 6000: loss = 0.8031271696090698\n",
      "step = 6000: Average Return = 119.30\n",
      "step = 6200: loss = 0.5764856338500977\n",
      "step = 6400: loss = 0.6573711633682251\n",
      "step = 6600: loss = 0.5899996757507324\n",
      "step = 6800: loss = 0.7075515985488892\n",
      "step = 7000: loss = 0.6315189003944397\n",
      "step = 7000: Average Return = 148.80\n",
      "step = 7200: loss = 0.613953173160553\n",
      "step = 7400: loss = 0.5542221069335938\n",
      "step = 7600: loss = 0.6412272453308105\n",
      "step = 7800: loss = 0.659490704536438\n",
      "step = 8000: loss = 0.7146942019462585\n",
      "step = 8000: Average Return = 323.60\n",
      "step = 8200: loss = 0.745093584060669\n",
      "step = 8400: loss = 0.6035239696502686\n",
      "step = 8600: loss = 0.5051594972610474\n",
      "step = 8800: loss = 0.4333418905735016\n",
      "step = 9000: loss = 0.41490358114242554\n",
      "step = 9000: Average Return = 171.40\n",
      "step = 9200: loss = 0.5744825005531311\n",
      "step = 9400: loss = 0.3952058255672455\n",
      "step = 9600: loss = 0.4711418151855469\n",
      "step = 9800: loss = 0.3695340156555176\n",
      "step = 10000: loss = 0.4991128444671631\n",
      "step = 10000: Average Return = 239.10\n",
      "step = 10200: loss = 0.3210873305797577\n",
      "step = 10400: loss = 0.44588786363601685\n",
      "step = 10600: loss = 0.46316105127334595\n",
      "step = 10800: loss = 0.4235161542892456\n",
      "step = 11000: loss = 0.3815745711326599\n",
      "step = 11000: Average Return = 262.00\n",
      "step = 11200: loss = 0.24434217810630798\n",
      "step = 11400: loss = 0.4426969289779663\n",
      "step = 11600: loss = 0.6227148771286011\n",
      "step = 11800: loss = 0.6028870344161987\n",
      "step = 12000: loss = 0.32088762521743774\n",
      "step = 12000: Average Return = 238.40\n",
      "step = 12200: loss = 0.26182225346565247\n",
      "step = 12400: loss = 0.430329829454422\n",
      "step = 12600: loss = 0.4523652195930481\n",
      "step = 12800: loss = 0.42841729521751404\n",
      "step = 13000: loss = 0.37387534976005554\n",
      "step = 13000: Average Return = 280.50\n",
      "step = 13200: loss = 0.339707612991333\n",
      "step = 13400: loss = 0.3781306743621826\n",
      "step = 13600: loss = 0.5201965570449829\n",
      "step = 13800: loss = 0.20747043192386627\n",
      "step = 14000: loss = 0.4218123257160187\n",
      "step = 14000: Average Return = 296.00\n",
      "step = 14200: loss = 0.27447056770324707\n",
      "step = 14400: loss = 0.2909761965274811\n",
      "step = 14600: loss = 0.5002873539924622\n",
      "step = 14800: loss = 0.4098619818687439\n",
      "step = 15000: loss = 0.272499680519104\n",
      "step = 15000: Average Return = 184.50\n"
     ]
    }
   ],
   "source": [
    "#@test {\"skip\": true}\n",
    "try:\n",
    "  %%time\n",
    "except:\n",
    "  pass\n",
    "\n",
    "# (Optional) Optimize by wrapping some of the code in a graph using TF function.\n",
    "agent.train = common.function(agent.train)\n",
    "\n",
    "# Reset the train step\n",
    "agent.train_step_counter.assign(0)\n",
    "\n",
    "# Evaluate the agent's policy once before training.\n",
    "avg_return = compute_avg_return(eval_env, agent.policy, num_eval_episodes)\n",
    "returns = [avg_return]\n",
    "\n",
    "for _ in range(num_iterations):\n",
    "\n",
    "  # Collect a few steps using collect_policy and save to the replay buffer.\n",
    "  for _ in range(collect_steps_per_iteration):\n",
    "    collect_step(train_env, agent.collect_policy)\n",
    "\n",
    "  # Sample a batch of data from the buffer and update the agent's network.\n",
    "  experience, unused_info = next(iterator)\n",
    "  train_loss = agent.train(experience)\n",
    "\n",
    "  step = agent.train_step_counter.numpy()\n",
    "\n",
    "  if step % log_interval == 0:\n",
    "    print('step = {0}: loss = {1}'.format(step, train_loss.loss))\n",
    "\n",
    "  if step % eval_interval == 0:\n",
    "    avg_return = compute_avg_return(eval_env, agent.policy, num_eval_episodes)\n",
    "    print('step = {0}: Average Return = {1:.2f}'.format(step, avg_return))\n",
    "    returns.append(avg_return)"
   ]
  },
  {
   "cell_type": "markdown",
   "metadata": {
    "id": "68jNcA_TiJDq"
   },
   "source": [
    "## Visualization\n"
   ]
  },
  {
   "cell_type": "markdown",
   "metadata": {
    "id": "aO-LWCdbbOIC"
   },
   "source": [
    "### Plots\n",
    "\n",
    "We can plot return vs global steps to see the performance of our agent. In `Cartpole-v1`, the environment gives a reward of +1 for every time step the pole stays up, and since the maximum number of steps is 500, the maximum possible return is also 500."
   ]
  },
  {
   "cell_type": "code",
   "execution_count": 11,
   "metadata": {
    "execution": {
     "iopub.execute_input": "2022-04-20T11:24:34.584980Z",
     "iopub.status.busy": "2022-04-20T11:24:34.584486Z",
     "iopub.status.idle": "2022-04-20T11:24:34.770571Z",
     "shell.execute_reply": "2022-04-20T11:24:34.769810Z"
    },
    "id": "NxtL1mbOYCVO"
   },
   "outputs": [
    {
     "data": {
      "text/plain": [
       "(56.79499969482422, 550.0)"
      ]
     },
     "execution_count": 11,
     "metadata": {},
     "output_type": "execute_result"
    },
    {
     "data": {
      "image/png": "[encoded data removed]",
      "text/plain": [
       "<Figure size 432x288 with 1 Axes>"
      ]
     },
     "metadata": {
      "needs_background": "light"
     },
     "output_type": "display_data"
    }
   ],
   "source": [
    "#@test {\"skip\": true}\n",
    "\n",
    "steps = range(0, num_iterations + 1, eval_interval)\n",
    "plt.plot(steps, returns)\n",
    "plt.ylabel('Average Return')\n",
    "plt.xlabel('Step')\n",
    "plt.ylim(top=550)"
   ]
  },
  {
   "cell_type": "markdown",
   "metadata": {
    "id": "M7-XpPP99Cy7"
   },
   "source": [
    "### Videos"
   ]
  },
  {
   "cell_type": "markdown",
   "metadata": {
    "id": "9pGfGxSH32gn"
   },
   "source": [
    "It is helpful to visualize the performance of an agent by rendering the environment at each step. Before we do that, let us first create a function to embed videos in this colab."
   ]
  },
  {
   "cell_type": "code",
   "execution_count": 12,
   "metadata": {
    "execution": {
     "iopub.execute_input": "2022-04-20T11:24:34.774531Z",
     "iopub.status.busy": "2022-04-20T11:24:34.774008Z",
     "iopub.status.idle": "2022-04-20T11:24:34.778654Z",
     "shell.execute_reply": "2022-04-20T11:24:34.777909Z"
    },
    "id": "ULaGr8pvOKbl"
   },
   "outputs": [],
   "source": [
    "def embed_mp4(filename):\n",
    "  \"\"\"Embeds an mp4 file in the notebook.\"\"\"\n",
    "  video = open(filename,'rb').read()\n",
    "  b64 = base64.b64encode(video)\n",
    "  tag = '''\n",
    "  <video width=\"640\" height=\"480\" controls>\n",
    "    <source src=\"data:video/mp4;base64,{0}\" type=\"video/mp4\">\n",
    "  Your browser does not support the video tag.\n",
    "  </video>'''.format(b64.decode())\n",
    "\n",
    "  return IPython.display.HTML(tag)"
   ]
  },
  {
   "cell_type": "markdown",
   "metadata": {
    "id": "9c_PH-pX4Pr5"
   },
   "source": [
    "The following code visualizes the agent's policy for a few episodes:"
   ]
  },
  {
   "cell_type": "code",
   "execution_count": 13,
   "metadata": {
    "execution": {
     "iopub.execute_input": "2022-04-20T11:24:34.782326Z",
     "iopub.status.busy": "2022-04-20T11:24:34.781900Z",
     "iopub.status.idle": "2022-04-20T11:24:41.251193Z",
     "shell.execute_reply": "2022-04-20T11:24:41.250455Z"
    },
    "id": "owOVWB158NlF"
   },
   "outputs": [
    {
     "name": "stderr",
     "output_type": "stream",
     "text": [
      "WARNING:root:IMAGEIO FFMPEG_WRITER WARNING: input image is not divisible by macro_block_size=16, resizing from (400, 600) to (400, 608) to ensure video compatibility with most codecs and players. To prevent resizing, make your input image divisible by the macro_block_size or set the macro_block_size to None (risking incompatibility). You may also see a FFMPEG warning concerning speedloss due to data not being aligned.\n",
      "/tmpfs/src/tf_docs_env/lib/python3.7/site-packages/imageio/plugins/ffmpeg.py:727: DeprecationWarning: tostring() is deprecated. Use tobytes() instead.\n",
      "  self._proc.stdin.write(im.tostring())\n",
      "[swscaler @ 0x560d6a15e3c0] Warning: data is not aligned! This can lead to a speed loss\n"
     ]
    },
    {
     "data": {
      "text/html": [
       "\n",
       "  <video width=\"640\" height=\"480\" controls>\n",
       "    <source src=\"data:video/mp4;base64,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\" type=\"video/mp4\">\n",
       "  Your browser does not support the video tag.\n",
       "  </video>"
      ],
      "text/plain": [
       "<IPython.core.display.HTML object>"
      ]
     },
     "execution_count": 13,
     "metadata": {},
     "output_type": "execute_result"
    }
   ],
   "source": [
    "num_episodes = 3\n",
    "video_filename = 'imageio.mp4'\n",
    "with imageio.get_writer(video_filename, fps=60) as video:\n",
    "  for _ in range(num_episodes):\n",
    "    time_step = eval_env.reset()\n",
    "    video.append_data(eval_py_env.render())\n",
    "    while not time_step.is_last():\n",
    "      action_step = agent.policy.action(time_step)\n",
    "      time_step = eval_env.step(action_step.action)\n",
    "      video.append_data(eval_py_env.render())\n",
    "\n",
    "embed_mp4(video_filename)"
   ]
  },
  {
   "cell_type": "markdown",
   "metadata": {
    "id": "exziB27hY8ia"
   },
   "source": [
    "C51 tends to do slightly better than DQN on CartPole-v1, but the difference between the two agents becomes more and more significant in increasingly complex environments. For example, on the full Atari 2600 benchmark, C51 demonstrates a mean score improvement of 126% over DQN after normalizing with respect to a random agent. Additional improvements can be gained by including n-step updates.\n",
    "\n",
    "For a deeper dive into the C51 algorithm, see [A Distributional Perspective on Reinforcement Learning (2017)](https://arxiv.org/pdf/1707.06887.pdf)."
   ]
  }
 ],
 "metadata": {
  "colab": {
   "collapsed_sections": [],
   "name": "DQN C51/Rainbow Tutorial.ipynb",
   "private_outputs": true,
   "provenance": [],
   "toc_visible": true
  },
  "kernelspec": {
   "display_name": "Python 3 (ipykernel)",
   "language": "python",
   "name": "python3"
  },
  "language_info": {
   "codemirror_mode": {
    "name": "ipython",
    "version": 3
   },
   "file_extension": ".py",
   "mimetype": "text/x-python",
   "name": "python",
   "nbconvert_exporter": "python",
   "pygments_lexer": "ipython3",
   "version": "3.9.7"
  },
  "pycharm": {
   "stem_cell": {
    "cell_type": "raw",
    "metadata": {
     "collapsed": false
    },
    "source": []
   }
  }
 },
 "nbformat": 4,
 "nbformat_minor": 1
}
