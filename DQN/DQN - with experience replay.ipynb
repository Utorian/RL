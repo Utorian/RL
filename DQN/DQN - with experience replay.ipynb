{
 "cells": [
  {
   "cell_type": "code",
   "execution_count": 8,
   "metadata": {},
   "outputs": [],
   "source": [
    "import random\n",
    "import gym\n",
    "import numpy as np"
   ]
  },
  {
   "cell_type": "code",
   "execution_count": 9,
   "metadata": {},
   "outputs": [],
   "source": [
    "import tensorflow as tf\n",
    "from collections import deque"
   ]
  },
  {
   "cell_type": "code",
   "execution_count": 12,
   "metadata": {},
   "outputs": [],
   "source": [
    "from tensorflow import keras\n",
    "from tensorflow.keras import layers\n",
    "from tensorflow.keras.models import Sequential\n",
    "from tensorflow.keras.layers import Dense\n",
    "from tensorflow.keras.optimizers import Adam"
   ]
  },
  {
   "cell_type": "code",
   "execution_count": 13,
   "metadata": {},
   "outputs": [],
   "source": [
    "ENV_NAME = \"CartPole-v1\"\n",
    "\n",
    "GAMMA = 0.95\n",
    "LEARNING_RATE = 0.001\n",
    "\n",
    "MEMORY_SIZE = 1000000\n",
    "BATCH_SIZE = 20\n",
    "\n",
    "EXPLORATION_MAX = 1.0\n",
    "EXPLORATION_MIN = 0.01\n",
    "EXPLORATION_DECAY = 0.995\n",
    "\n",
    "EPISODES = 1000"
   ]
  },
  {
   "cell_type": "code",
   "execution_count": 14,
   "metadata": {},
   "outputs": [],
   "source": [
    "class DQNSolver:\n",
    "\n",
    "    #Constructor for DQNSolver\n",
    "    def __init__(self, observation_space, action_space):\n",
    "        self.exploration_rate = EXPLORATION_MAX\n",
    "        \n",
    "        #Vi sætter acction space og laver vores memory (deque)\n",
    "        self.action_space = action_space\n",
    "        self.memory = deque(maxlen=MEMORY_SIZE)\n",
    "\n",
    "        #Opretter vores Neurale netværk\n",
    "        self.model = Sequential()\n",
    "        self.model.add(Dense(24, input_shape=(observation_space,), activation=\"relu\"))\n",
    "        self.model.add(Dense(24, activation=\"relu\"))\n",
    "        \n",
    "        #Sidste lag er af størrelsen på vores action_space\n",
    "        self.model.add(Dense(self.action_space, activation=\"linear\"))\n",
    "        self.model.compile(loss=\"mse\", optimizer=Adam(lr=LEARNING_RATE))\n",
    "\n",
    "    #Metode til at tilføje til vores memory en del af vores \"experience replay\"   \n",
    "    def remember(self, state, action, reward, next_state, done):\n",
    "        self.memory.append((state, action, reward, next_state, done))\n",
    "\n",
    "    #Epsilon-greedy algoritme: til at vurdere om vi laver en random eller optimal action\n",
    "    def act(self, state):\n",
    "        if np.random.rand() < self.exploration_rate:\n",
    "            return random.randrange(self.action_space)\n",
    "        \n",
    "        q_values = self.model.predict(state)\n",
    "        \n",
    "        return np.argmax(q_values[0])\n",
    "\n",
    "    #Gem data til altså \"Experience replay\"\n",
    "    def experience_replay(self):\n",
    "        if len(self.memory) < BATCH_SIZE:\n",
    "            return\n",
    "        \n",
    "        #random.sample udvælger samples random\n",
    "        batch = random.sample(self.memory, BATCH_SIZE)\n",
    "        \n",
    "        \n",
    "        for state, action, reward, state_next, terminal in batch:\n",
    "            q_update = reward\n",
    "        \n",
    "            if not terminal:\n",
    "                q_update = (reward + GAMMA * np.amax(self.model.predict(state_next)[0]))\n",
    "            \n",
    "            q_values = self.model.predict(state)\n",
    "            q_values[0][action] = q_update\n",
    "            self.model.fit(state, q_values, verbose=0)\n",
    "            \n",
    "        self.exploration_rate *= EXPLORATION_DECAY\n",
    "        self.exploration_rate = max(EXPLORATION_MIN, self.exploration_rate)\n",
    "    \n",
    "    \n",
    "    def save_model(self):\n",
    "        self.model.save(\"cartpole_weight_v2.h5\")\n",
    "        \n",
    "    def load_trained_model(weights_path):\n",
    "       self.model.load_weights(weights_path)"
   ]
  },
  {
   "cell_type": "code",
   "execution_count": null,
   "metadata": {},
   "outputs": [
    {
     "name": "stderr",
     "output_type": "stream",
     "text": [
      "C:\\ML\\Anaconda3\\envs\\RL-learning\\lib\\site-packages\\keras\\optimizer_v2\\adam.py:105: UserWarning: The `lr` argument is deprecated, use `learning_rate` instead.\n",
      "  super(Adam, self).__init__(name, **kwargs)\n"
     ]
    },
    {
     "name": "stdout",
     "output_type": "stream",
     "text": [
      "Run: 1, exploration: 1.0, score: 17\n",
      "Run: 2, exploration: 0.8475428503023453, score: 36\n",
      "Run: 3, exploration: 0.7705488893118823, score: 20\n",
      "Run: 4, exploration: 0.7076077347272662, score: 18\n",
      "Run: 5, exploration: 0.6832098777212641, score: 8\n",
      "Run: 6, exploration: 0.6180388156137953, score: 21\n",
      "Run: 7, exploration: 0.5819594443402982, score: 13\n",
      "Run: 8, exploration: 0.5535075230322891, score: 11\n",
      "Run: 9, exploration: 0.510849320360386, score: 17\n",
      "Run: 10, exploration: 0.4810273709480478, score: 13\n",
      "Run: 11, exploration: 0.46211964903917074, score: 9\n",
      "Run: 12, exploration: 0.42013897252428334, score: 20\n",
      "Run: 13, exploration: 0.3976004408064698, score: 12\n",
      "Run: 14, exploration: 0.3614809303671764, score: 20\n",
      "Run: 15, exploration: 0.3472722151889232, score: 9\n",
      "Run: 16, exploration: 0.32864265128599696, score: 12\n",
      "Run: 17, exploration: 0.3125753549412418, score: 11\n",
      "Run: 18, exploration: 0.29285644267656924, score: 14\n",
      "Run: 19, exploration: 0.27853872940185365, score: 11\n",
      "Run: 20, exploration: 0.2649210072611673, score: 11\n"
     ]
    }
   ],
   "source": [
    "env = gym.make(ENV_NAME)\n",
    "    \n",
    "observation_space = env.observation_space.shape[0]\n",
    "action_space = env.action_space.n\n",
    "\n",
    "dqn_solver = DQNSolver(observation_space, action_space)\n",
    "run = 0\n",
    "\n",
    "for index_episode in range(EPISODES):\n",
    "    run += 1\n",
    "    state = env.reset()\n",
    "    state = np.reshape(state, [1, observation_space])\n",
    "    step = 0\n",
    "    try:\n",
    "        while True:\n",
    "            step += 1\n",
    "            #vælg action baseret på Epsilon-greedy\n",
    "            action = dqn_solver.act(state)\n",
    "            #Udfør action\n",
    "            state_next, reward, terminal, info = env.step(action)\n",
    "            \n",
    "            reward = reward if not terminal else -reward\n",
    "            state_next = np.reshape(state_next, [1, observation_space])\n",
    "            \n",
    "            #Gem step\n",
    "            dqn_solver.remember(state, action, reward, state_next, terminal)\n",
    "            state = state_next\n",
    "            if terminal:\n",
    "                print (\"Run: \" + str(run) + \", exploration: \" + str(dqn_solver.exploration_rate) + \", score: \" + str(step))\n",
    "\n",
    "                break\n",
    "            dqn_solver.experience_replay()\n",
    "    finally:        \n",
    "        dqn_solver.save_model()"
   ]
  },
  {
   "cell_type": "code",
   "execution_count": null,
   "metadata": {},
   "outputs": [],
   "source": []
  },
  {
   "cell_type": "code",
   "execution_count": null,
   "metadata": {},
   "outputs": [],
   "source": []
  }
 ],
 "metadata": {
  "kernelspec": {
   "display_name": "Python (AI)",
   "language": "python",
   "name": "rl-learning"
  },
  "language_info": {
   "codemirror_mode": {
    "name": "ipython",
    "version": 3
   },
   "file_extension": ".py",
   "mimetype": "text/x-python",
   "name": "python",
   "nbconvert_exporter": "python",
   "pygments_lexer": "ipython3",
   "version": "3.9.7"
  }
 },
 "nbformat": 4,
 "nbformat_minor": 2
}
