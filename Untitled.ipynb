{
 "cells": [
  {
   "cell_type": "code",
   "execution_count": 2,
   "id": "bca68693",
   "metadata": {},
   "outputs": [],
   "source": [
    "import numpy as np"
   ]
  },
  {
   "cell_type": "code",
   "execution_count": 7,
   "id": "b5b50f14",
   "metadata": {},
   "outputs": [],
   "source": [
    "target = 3\n",
    "action = 1"
   ]
  },
  {
   "cell_type": "code",
   "execution_count": 5,
   "id": "e44fc330",
   "metadata": {},
   "outputs": [],
   "source": [
    "q_values = np.empty([2, 3])"
   ]
  },
  {
   "cell_type": "code",
   "execution_count": 6,
   "id": "95b22d0c",
   "metadata": {},
   "outputs": [
    {
     "name": "stdout",
     "output_type": "stream",
     "text": [
      "[[0. 0. 0.]\n",
      " [0. 0. 0.]]\n"
     ]
    }
   ],
   "source": [
    "print(q_values)"
   ]
  },
  {
   "cell_type": "code",
   "execution_count": 8,
   "id": "66261109",
   "metadata": {},
   "outputs": [],
   "source": [
    "q_values[0][action] = target"
   ]
  },
  {
   "cell_type": "code",
   "execution_count": 9,
   "id": "2a7ddd41",
   "metadata": {},
   "outputs": [
    {
     "name": "stdout",
     "output_type": "stream",
     "text": [
      "[[0. 3. 0.]\n",
      " [0. 0. 0.]]\n"
     ]
    }
   ],
   "source": [
    "print(q_values)"
   ]
  },
  {
   "cell_type": "code",
   "execution_count": null,
   "id": "096747a8",
   "metadata": {},
   "outputs": [],
   "source": []
  }
 ],
 "metadata": {
  "kernelspec": {
   "display_name": "Python 3 (ipykernel)",
   "language": "python",
   "name": "python3"
  },
  "language_info": {
   "codemirror_mode": {
    "name": "ipython",
    "version": 3
   },
   "file_extension": ".py",
   "mimetype": "text/x-python",
   "name": "python",
   "nbconvert_exporter": "python",
   "pygments_lexer": "ipython3",
   "version": "3.9.7"
  }
 },
 "nbformat": 4,
 "nbformat_minor": 5
}
