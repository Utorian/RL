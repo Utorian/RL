{
 "cells": [
  {
   "cell_type": "code",
   "execution_count": 20,
   "metadata": {},
   "outputs": [],
   "source": [
    "import gym\n",
    "import numpy as np\n",
    "import random as random"
   ]
  },
  {
   "cell_type": "code",
   "execution_count": 21,
   "metadata": {},
   "outputs": [
    {
     "name": "stdout",
     "output_type": "stream",
     "text": [
      "500 6\n",
      "[[0. 0. 0. 0. 0. 0.]\n",
      " [0. 0. 0. 0. 0. 0.]\n",
      " [0. 0. 0. 0. 0. 0.]\n",
      " ...\n",
      " [0. 0. 0. 0. 0. 0.]\n",
      " [0. 0. 0. 0. 0. 0.]\n",
      " [0. 0. 0. 0. 0. 0.]]\n"
     ]
    }
   ],
   "source": [
    "#Erklær environment\n",
    "env = gym.make('Taxi-v3')\n",
    "\n",
    "#Initialize table with all zeros based on environment\n",
    "Q = np.zeros([env.observation_space.n, env.action_space.n])\n",
    "#Print out Q\n",
    "print(env.observation_space.n, env.action_space.n)\n",
    "print(Q)"
   ]
  },
  {
   "cell_type": "code",
   "execution_count": 22,
   "metadata": {},
   "outputs": [],
   "source": [
    "\n",
    "\n",
    "GAMMA  = 0.9\n",
    "LEARNING_RATE = 0.1 #learning rate\n",
    "\n",
    "episode = 10001\n",
    "\n",
    "EPSILON = 1\n",
    "MAX_EPSILON=1.0\n",
    "MIN_EPSILON=0.01\n",
    "\n",
    "exploration_rate = 1\n",
    "max_exploration_rate = 1\n",
    "min_exploration_rate = 0.01\n",
    "exploration_decay_rate = 0.001\n",
    "\n",
    "penalities=0"
   ]
  },
  {
   "cell_type": "code",
   "execution_count": 23,
   "metadata": {},
   "outputs": [
    {
     "name": "stdout",
     "output_type": "stream",
     "text": [
      "Episode: 10000\n",
      "Training Finished..\n"
     ]
    }
   ],
   "source": [
    "#Køre spillet igennem i x-episoder\n",
    "for i in range(episode):\n",
    "\n",
    "    #Reset miljøet inden vi går igang\n",
    "    state = env.reset()\n",
    "    penalites,reward = 0,0\n",
    "    done = False\n",
    "    \n",
    "    #Vil bliver ved med at lave actions indtil spillet er slut (vundet/død)\n",
    "    while not done:\n",
    "        \n",
    "        #Episilon-Greed metode bruges til at udvælge om action skal være baseret på Q-tabel eller random   \n",
    "        exploration_rate_threshold = random.uniform(0, 1)    \n",
    "        \n",
    "        if exploration_rate_threshold > exploration_rate:\n",
    "            action = np.argmax(Q[state,:]) \n",
    "        else:\n",
    "            action = env.action_space.sample()\n",
    "                    \n",
    "        #Næste action udføres\n",
    "        next_state,reward,done,info = env.step(action)\n",
    "        \n",
    "        #Q value bestemmes for næste state\n",
    "        next_max = np.max(Q[next_state])\n",
    "        \n",
    "        #Q[S,A] udregnes\n",
    "        Q[state,action] =  Q[state,action] + LEARNING_RATE * ( reward + GAMMA * next_max - Q[state,action])\n",
    "        \n",
    "        #s = s'\n",
    "        state = next_state\n",
    "        \n",
    "        #Epsilon-greed algorime justeres\n",
    "        exploration_rate = min_exploration_rate + (max_exploration_rate - min_exploration_rate) * np.exp(-exploration_decay_rate*episode)\n",
    "        \n",
    "    \n",
    "    #Funktion til at se hvor langt vi er.\n",
    "    if i%100==0:\n",
    "        clear_output(wait=True)\n",
    "        print('Episode: {}'.format(i))\n",
    "        \n",
    "print('Training Finished..')"
   ]
  },
  {
   "cell_type": "code",
   "execution_count": 24,
   "metadata": {},
   "outputs": [
    {
     "data": {
      "text/plain": [
       "array([[ 0.        ,  0.        ,  0.        ,  0.        ,  0.        ,\n",
       "         0.        ],\n",
       "       [-2.56833119, -2.5894744 , -3.07140421, -2.59393682,  1.62261467,\n",
       "        -4.40032378],\n",
       "       [-1.27765661, -1.82093062,  0.06881368, -1.82093062,  7.7147    ,\n",
       "        -2.1926863 ],\n",
       "       ...,\n",
       "       [-1.12801184, -0.44253496, -1.04661746, -1.14129887, -1.99      ,\n",
       "        -1.99      ],\n",
       "       [-2.60299627, -2.6047407 , -2.59915724, -2.60173283, -2.9701    ,\n",
       "        -2.9701    ],\n",
       "       [-0.199     , -0.199     , -0.199     ,  7.96017646, -1.        ,\n",
       "        -1.        ]])"
      ]
     },
     "execution_count": 24,
     "metadata": {},
     "output_type": "execute_result"
    }
   ],
   "source": [
    "Q\n"
   ]
  },
  {
   "cell_type": "code",
   "execution_count": 25,
   "metadata": {},
   "outputs": [
    {
     "name": "stdout",
     "output_type": "stream",
     "text": [
      "Results After 10001 episodes\n",
      "Average timestep per Episode :13.116088391160885\n",
      "Average Penalties per Episode : 0.0\n",
      "Average Rewards per Episode : 39542.26517348265\n"
     ]
    }
   ],
   "source": [
    "penalites,r = 0,0\n",
    "\n",
    "total_rewards, total_steps , total_penalities =0,0,0\n",
    "\n",
    "for _ in range(episode):\n",
    "    state = env.reset()\n",
    "    steps , penalties , reward = 0,0,0\n",
    "    \n",
    "    done = False\n",
    "    \n",
    "    while not done:\n",
    "        #env.render()\n",
    "        action = np.argmax(Q[state])\n",
    "        state,reward,done,info = env.step(action)\n",
    "        \n",
    "        \n",
    "        if reward == -10:\n",
    "            penalites+=1\n",
    "        \n",
    "        r += reward\n",
    "        \n",
    "        steps+=1\n",
    "    \n",
    "    total_rewards+=r\n",
    "    total_steps+=steps\n",
    "    total_penalities+=penalites\n",
    "    \n",
    "    \n",
    "print('Results After {} episodes'.format(episode))\n",
    "print('Average timestep per Episode :{}'.format(total_steps/episode))\n",
    "print('Average Penalties per Episode : {}'.format(total_penalities/episode))\n",
    "print('Average Rewards per Episode : {}'.format(total_rewards/episode))"
   ]
  },
  {
   "cell_type": "code",
   "execution_count": null,
   "metadata": {},
   "outputs": [],
   "source": []
  },
  {
   "cell_type": "code",
   "execution_count": null,
   "metadata": {},
   "outputs": [],
   "source": []
  }
 ],
 "metadata": {
  "kernelspec": {
   "display_name": "Python 3 (ipykernel)",
   "language": "python",
   "name": "python3"
  },
  "language_info": {
   "codemirror_mode": {
    "name": "ipython",
    "version": 3
   },
   "file_extension": ".py",
   "mimetype": "text/x-python",
   "name": "python",
   "nbconvert_exporter": "python",
   "pygments_lexer": "ipython3",
   "version": "3.9.12"
  }
 },
 "nbformat": 4,
 "nbformat_minor": 2
}
