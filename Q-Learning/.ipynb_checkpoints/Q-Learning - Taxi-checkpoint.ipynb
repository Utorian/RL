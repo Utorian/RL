{
 "cells": [
  {
   "cell_type": "code",
   "execution_count": 1,
   "metadata": {},
   "outputs": [
    {
     "name": "stdout",
     "output_type": "stream",
     "text": [
      "Requirement already satisfied: gymnasium in c:\\users\\keln\\anaconda3\\lib\\site-packages (0.27.1)\n",
      "Requirement already satisfied: numpy>=1.21.0 in c:\\users\\keln\\anaconda3\\lib\\site-packages (from gymnasium) (1.21.5)\n",
      "Requirement already satisfied: typing-extensions>=4.3.0 in c:\\users\\keln\\anaconda3\\lib\\site-packages (from gymnasium) (4.4.0)\n",
      "Requirement already satisfied: jax-jumpy>=0.2.0 in c:\\users\\keln\\anaconda3\\lib\\site-packages (from gymnasium) (0.2.0)\n",
      "Requirement already satisfied: cloudpickle>=1.2.0 in c:\\users\\keln\\anaconda3\\lib\\site-packages (from gymnasium) (2.0.0)\n",
      "Requirement already satisfied: gymnasium-notices>=0.0.1 in c:\\users\\keln\\anaconda3\\lib\\site-packages (from gymnasium) (0.0.1)\n",
      "Requirement already satisfied: importlib-metadata>=4.8.0 in c:\\users\\keln\\anaconda3\\lib\\site-packages (from gymnasium) (4.11.3)\n",
      "Requirement already satisfied: zipp>=0.5 in c:\\users\\keln\\anaconda3\\lib\\site-packages (from importlib-metadata>=4.8.0->gymnasium) (3.7.0)\n"
     ]
    }
   ],
   "source": [
    "!pip install gymnasium"
   ]
  },
  {
   "cell_type": "code",
   "execution_count": 14,
   "metadata": {},
   "outputs": [],
   "source": [
    "import gymnasium as gym\n",
    "import numpy as np\n",
    "import random\n",
    "from IPython.display import clear_output"
   ]
  },
  {
   "cell_type": "code",
   "execution_count": 3,
   "metadata": {},
   "outputs": [],
   "source": [
    "env = gym.make('Taxi-v3', render_mode=\"ansi\")\n",
    "from gymnasium.wrappers import TimeLimit"
   ]
  },
  {
   "cell_type": "code",
   "execution_count": 5,
   "metadata": {},
   "outputs": [
    {
     "name": "stdout",
     "output_type": "stream",
     "text": [
      "+---------+\n",
      "|\u001b[35mR\u001b[0m: | : :G|\n",
      "| :\u001b[43m \u001b[0m| : : |\n",
      "| : : : : |\n",
      "| | : | : |\n",
      "|Y| : |\u001b[34;1mB\u001b[0m: |\n",
      "+---------+\n",
      "\n",
      "\n",
      "Action Space Discrete(6)\n",
      "State Space Discrete(500)\n"
     ]
    }
   ],
   "source": [
    "env.reset()\n",
    "print(env.render())\n",
    "\n",
    "print('Action Space {}'.format(env.action_space))\n",
    "print('State Space {}'.format(env.observation_space))"
   ]
  },
  {
   "cell_type": "code",
   "execution_count": 18,
   "metadata": {},
   "outputs": [
    {
     "data": {
      "text/plain": [
       "array([[0., 0., 0., 0., 0., 0.],\n",
       "       [0., 0., 0., 0., 0., 0.],\n",
       "       [0., 0., 0., 0., 0., 0.],\n",
       "       ...,\n",
       "       [0., 0., 0., 0., 0., 0.],\n",
       "       [0., 0., 0., 0., 0., 0.],\n",
       "       [0., 0., 0., 0., 0., 0.]])"
      ]
     },
     "execution_count": 18,
     "metadata": {},
     "output_type": "execute_result"
    }
   ],
   "source": [
    "#intialize the Q-Table with Zeros \n",
    "q_table= np.zeros([env.observation_space.n,env.action_space.n])\n",
    "q_table"
   ]
  },
  {
   "cell_type": "code",
   "execution_count": 19,
   "metadata": {},
   "outputs": [],
   "source": [
    "#Hyparameters\n",
    "gamma  = 0.9\n",
    "alpha = 0.1 #learning rate\n",
    "\n",
    "max_action_pr_game = 10\n",
    "how_many_games_to_play = 100"
   ]
  },
  {
   "cell_type": "code",
   "execution_count": 20,
   "metadata": {},
   "outputs": [
    {
     "name": "stdout",
     "output_type": "stream",
     "text": [
      "Episode: 1\n",
      "Episode: 2\n",
      "Episode: 3\n",
      "Episode: 4\n",
      "Episode: 5\n",
      "Episode: 6\n",
      "Episode: 7\n",
      "Episode: 8\n",
      "Episode: 9\n",
      "Episode: 10\n",
      "Episode: 11\n",
      "Episode: 12\n",
      "Episode: 13\n",
      "Episode: 14\n",
      "Episode: 15\n",
      "Episode: 16\n",
      "Episode: 17\n",
      "Episode: 18\n",
      "Episode: 19\n",
      "Episode: 20\n",
      "Episode: 21\n",
      "Episode: 22\n",
      "Episode: 23\n",
      "Episode: 24\n",
      "Episode: 25\n",
      "Episode: 26\n",
      "Episode: 27\n",
      "Episode: 28\n",
      "Episode: 29\n",
      "Episode: 30\n",
      "Episode: 31\n",
      "Episode: 32\n",
      "Episode: 33\n",
      "Episode: 34\n",
      "Episode: 35\n",
      "Episode: 36\n",
      "Episode: 37\n",
      "Episode: 38\n",
      "Episode: 39\n",
      "Episode: 40\n",
      "Episode: 41\n",
      "Episode: 42\n",
      "Episode: 43\n",
      "Episode: 44\n",
      "Episode: 45\n",
      "Episode: 46\n",
      "Episode: 47\n",
      "Episode: 48\n",
      "Episode: 49\n",
      "Episode: 50\n",
      "Episode: 51\n",
      "Episode: 52\n",
      "Episode: 53\n",
      "Episode: 54\n",
      "Episode: 55\n",
      "Episode: 56\n",
      "Episode: 57\n",
      "Episode: 58\n",
      "Episode: 59\n",
      "Episode: 60\n",
      "Episode: 61\n",
      "Episode: 62\n",
      "Episode: 63\n",
      "Episode: 64\n",
      "Episode: 65\n",
      "Episode: 66\n",
      "Episode: 67\n",
      "Episode: 68\n",
      "Episode: 69\n",
      "Episode: 70\n",
      "Episode: 71\n",
      "Episode: 72\n",
      "Episode: 73\n",
      "Episode: 74\n",
      "Episode: 75\n",
      "Episode: 76\n",
      "Episode: 77\n",
      "Episode: 78\n",
      "Episode: 79\n",
      "Episode: 80\n",
      "Episode: 81\n",
      "Episode: 82\n",
      "Episode: 83\n",
      "Episode: 84\n",
      "Episode: 85\n",
      "Episode: 86\n",
      "Episode: 87\n",
      "Episode: 88\n",
      "Episode: 89\n",
      "Episode: 90\n",
      "Episode: 91\n",
      "Episode: 92\n",
      "Episode: 93\n",
      "Episode: 94\n",
      "Episode: 95\n",
      "Episode: 96\n",
      "Episode: 97\n",
      "Episode: 98\n",
      "Episode: 99\n",
      "Episode: 100\n"
     ]
    }
   ],
   "source": [
    "for i in range(how_many_games_to_play):\n",
    "    \n",
    "    environment = env.reset()\n",
    "    state = environment[0]\n",
    "    \n",
    "    done = False\n",
    "    truncate = False\n",
    "\n",
    "    while not done:\n",
    "        \n",
    "        action = env.action_space.sample()\n",
    "        next_state,reward,done,truncate,info = env.step(action)\n",
    "        \n",
    "        next_max = np.max(q_table[next_state])\n",
    "        q_table[state,action] =  q_table[state,action] + alpha * ( reward + gamma * next_max - q_table[state,action])\n",
    "        state = next_state\n",
    "    \n",
    "        \n",
    "        if truncate:\n",
    "            break\n",
    "           \n",
    "    print('Episode: {}'.format(i+1))"
   ]
  },
  {
   "cell_type": "code",
   "execution_count": 21,
   "metadata": {},
   "outputs": [
    {
     "data": {
      "text/plain": [
       "array([[ 0.        ,  0.        ,  0.        ,  0.        ,  0.        ,\n",
       "         0.        ],\n",
       "       [-0.271     , -0.3439    , -0.1       , -0.1       , -0.19      ,\n",
       "        -4.0951    ],\n",
       "       [-0.49951   , -0.7548949 , -0.72982119, -0.75748715, -0.465409  ,\n",
       "        -5.81112883],\n",
       "       ...,\n",
       "       [-0.1       , -0.199     , -0.40951   , -0.271     , -1.        ,\n",
       "        -1.        ],\n",
       "       [-0.271     , -0.6593149 ,  0.        , -0.4224628 , -3.439     ,\n",
       "        -4.68559   ],\n",
       "       [ 0.        ,  0.        ,  0.        ,  0.        ,  0.        ,\n",
       "         0.        ]])"
      ]
     },
     "execution_count": 21,
     "metadata": {},
     "output_type": "execute_result"
    }
   ],
   "source": [
    "q_table"
   ]
  },
  {
   "cell_type": "code",
   "execution_count": 24,
   "metadata": {},
   "outputs": [
    {
     "name": "stdout",
     "output_type": "stream",
     "text": [
      "Results After 1001 episodes\n",
      "Average timestep per Episode :200.0\n",
      "Average Penalties per Episode : 3582.754245754246\n",
      "Average Rewards per Episode : -132444.78821178823\n"
     ]
    }
   ],
   "source": [
    "penalites,r = 0,0\n",
    "\n",
    "total_rewards, total_steps , total_penalities =0,0,0\n",
    "\n",
    "for _ in range(episode):\n",
    "    environment = env.reset()\n",
    "    state = environment[0]\n",
    "    steps , penalties , reward = 0,0,0\n",
    "    \n",
    "    done = False\n",
    "    \n",
    "    while not done:\n",
    "        #env.render()\n",
    "        action = np.argmax(q_table[state])\n",
    "        next_state,reward,done,truncate,info = env.step(action)\n",
    "        \n",
    "        \n",
    "        if reward == -10:\n",
    "            penalites+=1        \n",
    "        r += reward        \n",
    "        steps+=1\n",
    "        \n",
    "        if truncate:\n",
    "            break\n",
    "    \n",
    "    total_rewards+=r\n",
    "    total_steps+=steps\n",
    "    total_penalities+=penalites\n",
    "    \n",
    "    \n",
    "print('Results After {} episodes'.format(episode))\n",
    "print('Average timestep per Episode :{}'.format(total_steps/episode))\n",
    "print('Average Penalties per Episode : {}'.format(total_penalities/episode))\n",
    "print('Average Rewards per Episode : {}'.format(total_rewards/episode))"
   ]
  },
  {
   "cell_type": "code",
   "execution_count": null,
   "metadata": {},
   "outputs": [],
   "source": []
  }
 ],
 "metadata": {
  "kernelspec": {
   "display_name": "Python 3 (ipykernel)",
   "language": "python",
   "name": "python3"
  },
  "language_info": {
   "codemirror_mode": {
    "name": "ipython",
    "version": 3
   },
   "file_extension": ".py",
   "mimetype": "text/x-python",
   "name": "python",
   "nbconvert_exporter": "python",
   "pygments_lexer": "ipython3",
   "version": "3.9.12"
  }
 },
 "nbformat": 4,
 "nbformat_minor": 2
}
