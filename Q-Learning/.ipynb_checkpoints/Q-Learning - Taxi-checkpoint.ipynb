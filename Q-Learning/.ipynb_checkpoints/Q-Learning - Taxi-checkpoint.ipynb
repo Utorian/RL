{
 "cells": [
  {
   "cell_type": "code",
   "execution_count": 1,
   "metadata": {},
   "outputs": [],
   "source": [
    "import gym\n",
    "import numpy as np\n",
    "import random"
   ]
  },
  {
   "cell_type": "code",
   "execution_count": 9,
   "metadata": {},
   "outputs": [],
   "source": [
    "env = gym.make('Taxi-v3')"
   ]
  },
  {
   "cell_type": "code",
   "execution_count": 10,
   "metadata": {},
   "outputs": [
    {
     "name": "stdout",
     "output_type": "stream",
     "text": [
      "+---------+\n",
      "|\u001b[34;1mR\u001b[0m: | : :G|\n",
      "| :\u001b[43m \u001b[0m| : : |\n",
      "| : : : : |\n",
      "| | : | : |\n",
      "|\u001b[35mY\u001b[0m| : |B: |\n",
      "+---------+\n",
      "\n",
      "Action Space Discrete(6)\n",
      "State Space Discrete(500)\n"
     ]
    }
   ],
   "source": [
    "env.reset()\n",
    "env.render()\n",
    "\n",
    "print('Action Space {}'.format(env.action_space))\n",
    "print('State Space {}'.format(env.observation_space))"
   ]
  },
  {
   "cell_type": "code",
   "execution_count": 11,
   "metadata": {},
   "outputs": [
    {
     "data": {
      "text/plain": [
       "array([[0., 0., 0., 0., 0., 0.],\n",
       "       [0., 0., 0., 0., 0., 0.],\n",
       "       [0., 0., 0., 0., 0., 0.],\n",
       "       ...,\n",
       "       [0., 0., 0., 0., 0., 0.],\n",
       "       [0., 0., 0., 0., 0., 0.],\n",
       "       [0., 0., 0., 0., 0., 0.]])"
      ]
     },
     "execution_count": 11,
     "metadata": {},
     "output_type": "execute_result"
    }
   ],
   "source": [
    "#intialize the Q-Table with Zeros \n",
    "q_table= np.zeros([env.observation_space.n,env.action_space.n])\n",
    "q_table"
   ]
  },
  {
   "cell_type": "code",
   "execution_count": 12,
   "metadata": {},
   "outputs": [],
   "source": [
    "#Hyparameters\n",
    "gamma  = 0.9\n",
    "alpha = 0.1 #learning rate\n",
    "\n",
    "episode = 1001"
   ]
  },
  {
   "cell_type": "code",
   "execution_count": 13,
   "metadata": {},
   "outputs": [
    {
     "name": "stdout",
     "output_type": "stream",
     "text": [
      "Episode: 1000\n"
     ]
    }
   ],
   "source": [
    "for i in range(1,episode):\n",
    "    state = env.reset()\n",
    "    done = False\n",
    "\n",
    "    while not done:\n",
    "\n",
    "        action = env.action_space.sample()\n",
    "        next_state,reward,done,info = env.step(action)\n",
    "\n",
    "        next_max = np.max(q_table[next_state])\n",
    "        q_table[state,action] =  q_table[state,action] + alpha * ( reward + gamma * next_max - q_table[state,action])\n",
    "        state = next_state\n",
    "    \n",
    "    if i%100==0:\n",
    "      clear_output(wait=True)\n",
    "      print('Episode: {}'.format(i))"
   ]
  },
  {
   "cell_type": "code",
   "execution_count": 14,
   "metadata": {},
   "outputs": [
    {
     "data": {
      "text/plain": [
       "array([[  0.        ,   0.        ,   0.        ,   0.        ,\n",
       "          0.        ,   0.        ],\n",
       "       [ -3.48749087,  -3.00332223,  -3.55678947,  -3.28134237,\n",
       "         -3.33025647, -12.25000641],\n",
       "       [ -3.54007346,  -3.14589132,  -3.62243699,  -3.04458449,\n",
       "         -2.64584713, -12.14908198],\n",
       "       ...,\n",
       "       [ -2.40692513,  -1.44565437,  -2.47209344,  -2.82904657,\n",
       "        -11.43422813, -11.42618082],\n",
       "       [ -4.13645412,  -3.86559495,  -4.20142417,  -3.88997257,\n",
       "        -13.0594004 , -12.98584839],\n",
       "       [ -0.46013165,   0.09179219,   0.16686947,   3.67242429,\n",
       "         -3.81583044,  -5.32954284]])"
      ]
     },
     "execution_count": 14,
     "metadata": {},
     "output_type": "execute_result"
    }
   ],
   "source": [
    "q_table"
   ]
  },
  {
   "cell_type": "code",
   "execution_count": 15,
   "metadata": {},
   "outputs": [
    {
     "name": "stdout",
     "output_type": "stream",
     "text": [
      "Results After 1001 episodes\n",
      "Average timestep per Episode :166.3846153846154\n",
      "Average Penalties per Episode : 0.0\n",
      "Average Rewards per Episode : -82027.86713286713\n"
     ]
    }
   ],
   "source": [
    "penalites,r = 0,0\n",
    "\n",
    "total_rewards, total_steps , total_penalities =0,0,0\n",
    "\n",
    "for _ in range(episode):\n",
    "    state = env.reset()\n",
    "    steps , penalties , reward = 0,0,0\n",
    "    \n",
    "    done = False\n",
    "    \n",
    "    while not done:\n",
    "        #env.render()\n",
    "        action = np.argmax(q_table[state])\n",
    "        state,reward,done,info = env.step(action)\n",
    "        \n",
    "        \n",
    "        if reward == -10:\n",
    "            penalites+=1\n",
    "        \n",
    "        r += reward\n",
    "        \n",
    "        steps+=1\n",
    "    \n",
    "    total_rewards+=r\n",
    "    total_steps+=steps\n",
    "    total_penalities+=penalites\n",
    "    \n",
    "    \n",
    "print('Results After {} episodes'.format(episode))\n",
    "print('Average timestep per Episode :{}'.format(total_steps/episode))\n",
    "print('Average Penalties per Episode : {}'.format(total_penalities/episode))\n",
    "print('Average Rewards per Episode : {}'.format(total_rewards/episode))"
   ]
  },
  {
   "cell_type": "code",
   "execution_count": null,
   "metadata": {},
   "outputs": [],
   "source": []
  }
 ],
 "metadata": {
  "kernelspec": {
   "display_name": "Python (AI)",
   "language": "python",
   "name": "rl-learning"
  },
  "language_info": {
   "codemirror_mode": {
    "name": "ipython",
    "version": 3
   },
   "file_extension": ".py",
   "mimetype": "text/x-python",
   "name": "python",
   "nbconvert_exporter": "python",
   "pygments_lexer": "ipython3",
   "version": "3.9.7"
  }
 },
 "nbformat": 4,
 "nbformat_minor": 2
}
