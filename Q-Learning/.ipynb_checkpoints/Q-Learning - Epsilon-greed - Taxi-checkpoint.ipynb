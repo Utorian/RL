{
 "cells": [
  {
   "cell_type": "code",
   "execution_count": 1,
   "metadata": {},
   "outputs": [],
   "source": [
    "import gym\n",
    "import numpy as np\n",
    "from IPython.display import clear_output\n",
    "import random as random"
   ]
  },
  {
   "cell_type": "code",
   "execution_count": 15,
   "metadata": {},
   "outputs": [
    {
     "name": "stdout",
     "output_type": "stream",
     "text": [
      "16 4\n",
      "[[0. 0. 0. 0.]\n",
      " [0. 0. 0. 0.]\n",
      " [0. 0. 0. 0.]\n",
      " [0. 0. 0. 0.]\n",
      " [0. 0. 0. 0.]\n",
      " [0. 0. 0. 0.]\n",
      " [0. 0. 0. 0.]\n",
      " [0. 0. 0. 0.]\n",
      " [0. 0. 0. 0.]\n",
      " [0. 0. 0. 0.]\n",
      " [0. 0. 0. 0.]\n",
      " [0. 0. 0. 0.]\n",
      " [0. 0. 0. 0.]\n",
      " [0. 0. 0. 0.]\n",
      " [0. 0. 0. 0.]\n",
      " [0. 0. 0. 0.]]\n"
     ]
    }
   ],
   "source": [
    "ENV_NAME = \"FrozenLake-v1\"\n",
    "#ENV_NAME = \"Taxi-v3\"\n",
    "#Erklær environment\n",
    "env = gym.make(ENV_NAME)\n",
    "\n",
    "#Initialize table with all zeros based on environment\n",
    "Q = np.zeros([env.observation_space.n, env.action_space.n])\n",
    "#Print out Q\n",
    "print(env.observation_space.n, env.action_space.n)\n",
    "print(Q)"
   ]
  },
  {
   "cell_type": "code",
   "execution_count": 16,
   "metadata": {},
   "outputs": [],
   "source": [
    "\n",
    "\n",
    "GAMMA  = 0.9\n",
    "LEARNING_RATE = 0.1 #learning rate\n",
    "\n",
    "episode = 10001\n",
    "\n",
    "EPSILON = 1\n",
    "MAX_EPSILON=1.0\n",
    "MIN_EPSILON=0.01\n",
    "\n",
    "exploration_rate = 1\n",
    "max_exploration_rate = 1\n",
    "min_exploration_rate = 0.01\n",
    "exploration_decay_rate = 0.001\n",
    "\n",
    "penalities=0"
   ]
  },
  {
   "cell_type": "code",
   "execution_count": null,
   "metadata": {},
   "outputs": [
    {
     "name": "stdout",
     "output_type": "stream",
     "text": [
      "Episode: 8200\n"
     ]
    }
   ],
   "source": [
    "#Køre spillet igennem i x-episoder\n",
    "for i in range(episode):\n",
    "\n",
    "    #Reset miljøet inden vi går igang\n",
    "    state = env.reset()\n",
    "    penalites,reward = 0,0\n",
    "    done = False\n",
    "    \n",
    "    #Vil bliver ved med at lave actions indtil spillet er slut (vundet/død)\n",
    "    while not done:\n",
    "        \n",
    "        #Episilon-Greed metode bruges til at udvælge om action skal være baseret på Q-tabel eller random   \n",
    "        exploration_rate_threshold = random.uniform(0, 1)    \n",
    "        \n",
    "        if exploration_rate_threshold > exploration_rate:\n",
    "            action = np.argmax(Q[state,:]) \n",
    "        else:\n",
    "            action = env.action_space.sample()\n",
    "                    \n",
    "        #Næste action udføres\n",
    "        next_state,reward,done,info = env.step(action)\n",
    "        \n",
    "        #Q value bestemmes for næste state\n",
    "        next_max = np.max(Q[next_state])\n",
    "        \n",
    "        #Q[S,A] udregnes\n",
    "        Q[state,action] =  Q[state,action] + LEARNING_RATE * ( reward + GAMMA * next_max - Q[state,action])\n",
    "        \n",
    "        #s = s'\n",
    "        state = next_state\n",
    "        \n",
    "        #Epsilon-greed algorime justeres\n",
    "        exploration_rate = min_exploration_rate + (max_exploration_rate - min_exploration_rate) * np.exp(-exploration_decay_rate*episode)\n",
    "        \n",
    "    \n",
    "    #Funktion til at se hvor langt vi er.\n",
    "    if i%100==0:\n",
    "        clear_output(wait=True)\n",
    "        print('Episode: {}'.format(i))\n",
    "        \n",
    "print('Training Finished..')"
   ]
  },
  {
   "cell_type": "code",
   "execution_count": null,
   "metadata": {},
   "outputs": [],
   "source": [
    "Q\n"
   ]
  },
  {
   "cell_type": "code",
   "execution_count": null,
   "metadata": {},
   "outputs": [],
   "source": [
    "penalites,r = 0,0\n",
    "\n",
    "total_rewards, total_steps , total_penalities =0,0,0\n",
    "\n",
    "for _ in range(episode):\n",
    "    state = env.reset()\n",
    "    steps , penalties , reward = 0,0,0\n",
    "    \n",
    "    done = False\n",
    "    \n",
    "    while not done:\n",
    "        #env.render()\n",
    "        action = np.argmax(Q[state])\n",
    "        state,reward,done,info = env.step(action)\n",
    "        \n",
    "        \n",
    "        if reward == -10:\n",
    "            penalites+=1\n",
    "        \n",
    "        r += reward\n",
    "        \n",
    "        steps+=1\n",
    "    \n",
    "    total_rewards+=r\n",
    "    total_steps+=steps\n",
    "    total_penalities+=penalites\n",
    "    \n",
    "    \n",
    "print('Results After {} episodes'.format(episode))\n",
    "print('Average timestep per Episode :{}'.format(total_steps/episode))\n",
    "print('Average Penalties per Episode : {}'.format(total_penalities/episode))\n",
    "print('Average Rewards per Episode : {}'.format(total_rewards/episode))"
   ]
  },
  {
   "cell_type": "code",
   "execution_count": null,
   "metadata": {},
   "outputs": [],
   "source": []
  }
 ],
 "metadata": {
  "kernelspec": {
   "display_name": "Python (AI)",
   "language": "python",
   "name": "rl-learning"
  },
  "language_info": {
   "codemirror_mode": {
    "name": "ipython",
    "version": 3
   },
   "file_extension": ".py",
   "mimetype": "text/x-python",
   "name": "python",
   "nbconvert_exporter": "python",
   "pygments_lexer": "ipython3",
   "version": "3.9.7"
  }
 },
 "nbformat": 4,
 "nbformat_minor": 2
}
